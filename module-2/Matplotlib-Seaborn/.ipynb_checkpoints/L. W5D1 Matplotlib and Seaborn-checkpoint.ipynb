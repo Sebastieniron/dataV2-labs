{
 "cells": [
  {
   "cell_type": "code",
   "execution_count": null,
   "metadata": {},
   "outputs": [],
   "source": [
    "import matplotlib.pyplot as plt\n",
    "%matplotlib inline"
   ]
  },
  {
   "cell_type": "code",
   "execution_count": null,
   "metadata": {},
   "outputs": [],
   "source": [
    "import numpy as np\n",
    "x1 = np.arange(0,10.1,0.1)    # .1 : interval size of 0.1\n",
    "x2 = np.linspace(0,5,101)  # 100 : create 100-1 intervals\n",
    "print(x1)\n",
    "print(x2)"
   ]
  },
  {
   "cell_type": "code",
   "execution_count": null,
   "metadata": {},
   "outputs": [],
   "source": [
    "# plotting two lines/relations in one plot\n",
    "plt.plot(x1, x1, label='linear')    \n",
    "plt.plot(x2, x2**2, label='quadratic') #was x1, x2**2\n",
    "\n",
    "plt.xlabel('x label')\n",
    "plt.ylabel('y label')\n",
    "\n",
    "plt.title(\"Linear vs Non Linear Plots\")\n",
    "plt.legend()\n",
    "plt.show()"
   ]
  },
  {
   "cell_type": "code",
   "execution_count": null,
   "metadata": {},
   "outputs": [],
   "source": [
    "x2**2"
   ]
  },
  {
   "cell_type": "code",
   "execution_count": null,
   "metadata": {},
   "outputs": [],
   "source": [
    "#creating subplots - more plots in one figure\n",
    "fig, [ax1, ax2] = plt.subplots(1,2)\n",
    "#fig, [ax1, ax2, ax3] = plt.subplots(1,3)\n",
    "ax1.plot(x1,2*x1)\n",
    "ax1.set_title('LINEAR PLOT')   \n",
    "ax1.set_xlabel('x linear')     \n",
    "ax1.set_ylabel('y linear')   \n",
    "\n",
    "ax2.plot(x1,np.cos(x1))  # was x,y\n",
    "ax2.set_title('COSINE PLOT')\n",
    "ax2.set_xlabel('x label')\n",
    "ax2.set_ylabel('cosine')\n",
    "\n",
    "fig.suptitle('figure with subplots')\n",
    "# ax3.plot(x1,x2**.5)\n",
    "# ax3.set_title('SQRT PLOT')\n",
    "\n",
    "#ax4.plot(x1, np.sin(x1))\n",
    "plt.show()"
   ]
  },
  {
   "cell_type": "code",
   "execution_count": null,
   "metadata": {},
   "outputs": [],
   "source": [
    "x = np.random.randn(100)\n",
    "y = np.random.randn(100)\n",
    "print(x)\n",
    "print(y)"
   ]
  },
  {
   "cell_type": "code",
   "execution_count": null,
   "metadata": {},
   "outputs": [],
   "source": [
    "# After the earlier call to plt.show() we start a new plot\n",
    "plt.scatter(x,y)\n",
    "plt.xlabel('X axis')\n",
    "plt.ylabel('Y axis')\n",
    "plt.axis('scaled')\n",
    "#plt.figure(figsize=(10,10)) does not seem to have effect?\n",
    "plt.show()"
   ]
  },
  {
   "cell_type": "code",
   "execution_count": null,
   "metadata": {},
   "outputs": [],
   "source": [
    "labels = ['Vegetarians', 'Non-Vegetarians', 'Vegans']\n",
    "sizes = [40, 45, 15] # sizes of each section\n",
    "explode = [0, 0.1, 0] # distance from the centre for each section\n",
    "\n",
    "plt.pie(sizes, labels=labels, autopct='%1.0f%%', explode=explode, shadow=True, startangle=90)\n",
    "# # could also be a 1x1 subplot\n",
    "# fig1, ax1 = plt.subplots()\n",
    "# ax1.pie(sizes, labels=labels, autopct='%1.0f%%', explode=explode, shadow=True, startangle=90)\n",
    "# ax1.axis('equal')\n",
    "plt.show()"
   ]
  },
  {
   "cell_type": "code",
   "execution_count": null,
   "metadata": {},
   "outputs": [],
   "source": [
    "%matplotlib inline\n",
    "import matplotlib.pyplot as plt\n",
    "import seaborn as sns\n",
    "sns.set()"
   ]
  },
  {
   "cell_type": "code",
   "execution_count": null,
   "metadata": {},
   "outputs": [],
   "source": [
    "sns.palplot(sns.color_palette())"
   ]
  },
  {
   "cell_type": "code",
   "execution_count": null,
   "metadata": {},
   "outputs": [],
   "source": [
    "import pandas as pd\n",
    "data = pd.DataFrame()\n",
    "data['X'] = np.arange(0,10,1)\n",
    "data['Y'] = data['X']**2"
   ]
  },
  {
   "cell_type": "code",
   "execution_count": null,
   "metadata": {},
   "outputs": [],
   "source": [
    "data"
   ]
  },
  {
   "cell_type": "code",
   "execution_count": null,
   "metadata": {},
   "outputs": [],
   "source": [
    "sns.lineplot(data.X, data.Y)"
   ]
  },
  {
   "cell_type": "code",
   "execution_count": null,
   "metadata": {},
   "outputs": [],
   "source": [
    "sns.lmplot(\"X\", \"Y\", data=data, fit_reg=False)"
   ]
  },
  {
   "cell_type": "code",
   "execution_count": null,
   "metadata": {},
   "outputs": [],
   "source": [
    "sns.scatterplot(\"X\", \"Y\", data=data)"
   ]
  },
  {
   "cell_type": "code",
   "execution_count": null,
   "metadata": {},
   "outputs": [],
   "source": [
    "vehicles = pd.read_csv('vehicles.csv') \n",
    "sns.scatterplot(x=\"CO2 Emission Grams/Mile\", y=\"Highway MPG\", data=vehicles)\n",
    "#sns.scatterplot(x=\"CO2 Emission Grams/Mile\", y=\"Highway MPG\", hue=\"Drivetrain\", data=vehicles)\n",
    "\n"
   ]
  },
  {
   "cell_type": "code",
   "execution_count": null,
   "metadata": {},
   "outputs": [],
   "source": []
  },
  {
   "cell_type": "code",
   "execution_count": null,
   "metadata": {},
   "outputs": [],
   "source": [
    "sns.relplot(x='CO2 Emission Grams/Mile', y='Highway MPG', hue=\"Fuel Type\", size=\"Cylinders\", data=vehicles[vehicles[\"Fuel Type\"].isin(['Regular','Diesel','Premium'])])\n"
   ]
  },
  {
   "cell_type": "code",
   "execution_count": null,
   "metadata": {},
   "outputs": [],
   "source": [
    "sns.catplot(x=\"Highway MPG\", y=\"Drivetrain\", hue=\"Fuel Type\", data=vehicles)\n"
   ]
  },
  {
   "cell_type": "code",
   "execution_count": null,
   "metadata": {},
   "outputs": [],
   "source": [
    "vehicles.columns"
   ]
  },
  {
   "cell_type": "code",
   "execution_count": null,
   "metadata": {},
   "outputs": [],
   "source": [
    "sns.pairplot(vehicles[['Engine Displacement','Cylinders','Combined MPG','CO2 Emission Grams/Mile']])"
   ]
  },
  {
   "cell_type": "code",
   "execution_count": null,
   "metadata": {},
   "outputs": [],
   "source": [
    "sns.pairplot(vehicles[['Combined MPG','Fuel Barrels/Year','Fuel Cost/Year']])"
   ]
  },
  {
   "cell_type": "code",
   "execution_count": null,
   "metadata": {},
   "outputs": [],
   "source": [
    "#vehicles.index.values"
   ]
  },
  {
   "cell_type": "code",
   "execution_count": null,
   "metadata": {},
   "outputs": [],
   "source": []
  }
 ],
 "metadata": {
  "kernelspec": {
   "display_name": "Python 3",
   "language": "python",
   "name": "python3"
  },
  "language_info": {
   "codemirror_mode": {
    "name": "ipython",
    "version": 3
   },
   "file_extension": ".py",
   "mimetype": "text/x-python",
   "name": "python",
   "nbconvert_exporter": "python",
   "pygments_lexer": "ipython3",
   "version": "3.8.3"
  }
 },
 "nbformat": 4,
 "nbformat_minor": 4
}
