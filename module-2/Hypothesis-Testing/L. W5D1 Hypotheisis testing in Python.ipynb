{
 "cells": [
  {
   "cell_type": "code",
   "execution_count": 2,
   "metadata": {},
   "outputs": [
    {
     "name": "stdout",
     "output_type": "stream",
     "text": [
      "[3.99822876 6.29466165 5.57781534 6.86010136 2.42810117 4.43272491\n",
      " 5.1857878  4.16066995 7.42799463 5.13047703 5.22585948 2.47411762\n",
      " 4.11536864 3.96684575 6.49477974 3.37193045 4.73320918 6.20845134\n",
      " 7.77977562 3.15225657 4.86774053 5.60260086 7.08539645 5.7221407\n",
      " 6.39224293 6.10668655 3.84375436 4.29445862 1.01769811 8.12618499\n",
      " 7.37186845 6.77069064 4.55248316 4.20164748 6.54790369 4.42380832\n",
      " 4.63168182 4.82577493 4.59750013 4.92031213 5.94128143 7.32365484\n",
      " 3.8674518  5.2293331  8.32712683 3.09483749 6.8758031  4.12834934\n",
      " 5.92885586 5.03624772 5.435439   9.48852374 5.58296436 6.74433948\n",
      " 7.17597108 5.67332486 5.73030248 7.14595254 5.78319603 6.39945473\n",
      " 4.63207046 4.55500596 6.27799795 4.41781022 7.86089782 9.16339693\n",
      " 7.66014207 4.21710861 7.83048233 6.30556735 7.00747966 4.20149776\n",
      " 4.24266844 4.78146004 4.86219471 4.08527184 1.99982026 6.89928627\n",
      " 5.04140254 3.50934168 5.97633946 5.85845106 4.52682065 9.12840229\n",
      " 8.11964263 4.94072386 2.18618845 6.61396002 6.78756325 4.89522223\n",
      " 2.48350416 2.05093919 4.62784757 3.17275592 6.30741532 3.28041795\n",
      " 6.77567887 2.3706816  7.8469256  4.26703352]\n"
     ]
    }
   ],
   "source": [
    "import numpy as np\n",
    "from scipy.stats import ttest_1samp\n",
    "\n",
    "import pandas as pd\n",
    "\n",
    "# create a fake sample, with mean = 5.6 and stdev = 1.6\n",
    "patients = np.random.normal(5.6, 1.6, 100)\n",
    "print(patients)\n",
    "#pat = pd.DataFrame(patients)\n"
   ]
  },
  {
   "cell_type": "code",
   "execution_count": 3,
   "metadata": {},
   "outputs": [],
   "source": [
    "# test (with default 95% confidence)\n",
    "# null hypothesis : mean value for the population is (=) 5.6\n",
    "# the alternative hypothesis 'The mean is =|= 5.7'\n",
    "\n",
    "stat, pval = ttest_1samp(patients, 5.6)\n",
    "# note this gives p-value for 2-sided test (unequal), \n",
    "# for 1 sided test (greater) we need to divide the p-value by 2\n",
    "#type(pat[0])"
   ]
  },
  {
   "cell_type": "code",
   "execution_count": 26,
   "metadata": {},
   "outputs": [
    {
     "name": "stdout",
     "output_type": "stream",
     "text": [
      "0.3565743554186267\n"
     ]
    }
   ],
   "source": [
    "print(pval)"
   ]
  },
  {
   "cell_type": "code",
   "execution_count": 27,
   "metadata": {},
   "outputs": [
    {
     "name": "stdout",
     "output_type": "stream",
     "text": [
      "-0.926238809370683\n"
     ]
    }
   ],
   "source": [
    "print(stat)"
   ]
  },
  {
   "cell_type": "code",
   "execution_count": null,
   "metadata": {},
   "outputs": [],
   "source": [
    "patients.mean()"
   ]
  },
  {
   "cell_type": "code",
   "execution_count": null,
   "metadata": {},
   "outputs": [],
   "source": []
  }
 ],
 "metadata": {
  "kernelspec": {
   "display_name": "Python 3",
   "language": "python",
   "name": "python3"
  },
  "language_info": {
   "codemirror_mode": {
    "name": "ipython",
    "version": 3
   },
   "file_extension": ".py",
   "mimetype": "text/x-python",
   "name": "python",
   "nbconvert_exporter": "python",
   "pygments_lexer": "ipython3",
   "version": "3.8.3"
  }
 },
 "nbformat": 4,
 "nbformat_minor": 4
}
