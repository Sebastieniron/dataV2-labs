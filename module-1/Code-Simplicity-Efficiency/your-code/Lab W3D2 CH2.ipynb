{
 "cells": [
  {
   "cell_type": "code",
   "execution_count": 18,
   "metadata": {},
   "outputs": [
    {
     "name": "stdout",
     "output_type": "stream",
     "text": [
      "Enter minimum string length: 4\n",
      "Enter maximum string length: 9\n",
      "How many random strings to generate? 3\n",
      "['3e6c98lh', '38hwv', '1tx03he']\n"
     ]
    }
   ],
   "source": [
    "# %load challenge-2.py\n",
    "\"\"\"\n",
    "The code below generates a given number of random strings that consists of numbers and \n",
    "lower case English letters. You can also define the range of the variable lengths of\n",
    "the strings being generated.\n",
    "\n",
    "The code is functional but has a lot of room for improvement. Use what you have learned\n",
    "about simple and efficient code, refactor the code.\n",
    "\"\"\"\n",
    "\n",
    "def RandomStringGenerator(l=12, a=['a','b','c','d','e','f','g','h','i','j','k','l','m','n','o','p','q','r','s','t','u','v','w','x','y','z','0','1','2','3','4','5','6','7','8','9']):\n",
    "    p = 0\n",
    "    s = ''\n",
    "    while p<l:\n",
    "        import random\n",
    "        s += random.choice(a)\n",
    "        p += 1\n",
    "    return s\n",
    "\n",
    "def BatchStringGenerator(n, a=8, b=12):\n",
    "    r = []\n",
    "    for i in range(n):\n",
    "        c = None\n",
    "        if a < b:\n",
    "            import random\n",
    "            c = random.choice(range(a, b))\n",
    "        elif a == b:\n",
    "            c = a\n",
    "        else:\n",
    "            import sys\n",
    "            sys.exit('Incorrect min and max string lengths. Try again.')\n",
    "        r.append(RandomStringGenerator(c))\n",
    "    return r\n",
    "\n",
    "a = input('Enter minimum string length: ')\n",
    "b = input('Enter maximum string length: ')\n",
    "n = input('How many random strings to generate? ')\n",
    "\n",
    "print(BatchStringGenerator(int(n), int(a), int(b)))\n"
   ]
  },
  {
   "cell_type": "code",
   "execution_count": 21,
   "metadata": {},
   "outputs": [
    {
     "name": "stdout",
     "output_type": "stream",
     "text": [
      "Enter minimum string length: 6\n",
      "Enter maximum string length: 9\n",
      "How many random strings to generate? 4\n",
      "['yy50np', 'zs9sq3', '3ilnb3q', 'pgpawdu5']\n"
     ]
    }
   ],
   "source": [
    "import string\n",
    "string.ascii_lowercase\n",
    "\n",
    "def RandomStringGenerator(l=12, char=list(string.ascii_lowercase + string.digits)):\n",
    "    char_count = 0\n",
    "    string = ''\n",
    "    while char_count<l:\n",
    "        import random\n",
    "        string += random.choice(char)\n",
    "        char_count += 1\n",
    "    return string\n",
    "\n",
    "def BatchStringGenerator(words, char=8, charmax=12):\n",
    "    stringlist = []\n",
    "    for i in range(words):\n",
    "        if char < charmax:\n",
    "            import random\n",
    "            c = random.choice(range(char, charmax))\n",
    "        elif char == charmax:\n",
    "            c = char\n",
    "        else:\n",
    "            import sys\n",
    "            sys.exit('Incorrect min and max string lengths. Try again.')\n",
    "        stringlist.append(RandomStringGenerator(c))\n",
    "    return stringlist\n",
    "\n",
    "char = input('Enter minimum string length: ')\n",
    "charmax = input('Enter maximum string length: ')\n",
    "words = input('How many random strings to generate? ')\n",
    "\n",
    "print(BatchStringGenerator(int(words), int(char), int(charmax)))\n"
   ]
  },
  {
   "cell_type": "code",
   "execution_count": null,
   "metadata": {},
   "outputs": [],
   "source": []
  }
 ],
 "metadata": {
  "kernelspec": {
   "display_name": "Python 3",
   "language": "python",
   "name": "python3"
  },
  "language_info": {
   "codemirror_mode": {
    "name": "ipython",
    "version": 3
   },
   "file_extension": ".py",
   "mimetype": "text/x-python",
   "name": "python",
   "nbconvert_exporter": "python",
   "pygments_lexer": "ipython3",
   "version": "3.8.3"
  }
 },
 "nbformat": 4,
 "nbformat_minor": 4
}
