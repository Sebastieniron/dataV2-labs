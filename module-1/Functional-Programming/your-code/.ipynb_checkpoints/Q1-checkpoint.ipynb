{
 "cells": [
  {
   "cell_type": "markdown",
   "metadata": {},
   "source": [
    "In the cell below, create a Python function that wraps your previous solution for the Bag of Words lab.\n",
    "\n",
    "Requirements:\n",
    "\n",
    "1. Your function should accept the following parameters:\n",
    "    * `docs` [REQUIRED] - array of document paths.\n",
    "    * `stop_words` [OPTIONAL] - array of stop words. The default value is an empty array.\n",
    "\n",
    "1. Your function should return a Python object that contains the following:\n",
    "    * `bag_of_words` - array of strings of normalized unique words in the corpus.\n",
    "    * `term_freq` - array of the term-frequency vectors."
   ]
  },
  {
   "cell_type": "code",
   "execution_count": 73,
   "metadata": {},
   "outputs": [
    {
     "name": "stdout",
     "output_type": "stream",
     "text": [
      "['ironhack', 'is', 'cool', 'i', 'love', 'ironhack', 'i', 'am', 'a', 'student', 'at', 'ironhack', '']\n"
     ]
    }
   ],
   "source": [
    "#DRAFT\n",
    "\n",
    "import re\n",
    "\n",
    "corpus = [\"Ironhack is cool!\", \"I love Ironhack.\", \"I am a student at Ironhack.\"]\n",
    "lst = []\n",
    "\n",
    "corpus = ' '.join(corpus)\n",
    "corpus = corpus.lower() \n",
    "corpus = re.split('[ .!]+', corpus)\n",
    "\n",
    "\n",
    "print(corpus)\n"
   ]
  },
  {
   "cell_type": "code",
   "execution_count": 109,
   "metadata": {},
   "outputs": [
    {
     "data": {
      "text/plain": [
       "{'bag_of_words': ['ironhack',\n",
       "  'is',\n",
       "  'cool',\n",
       "  'i',\n",
       "  'love',\n",
       "  'am',\n",
       "  'a',\n",
       "  'student',\n",
       "  'at',\n",
       "  ''],\n",
       " 'term_freq': [3, 1, 1, 2, 1, 3, 2, 1, 1, 1, 1, 3, 1]}"
      ]
     },
     "execution_count": 109,
     "metadata": {},
     "output_type": "execute_result"
    }
   ],
   "source": [
    "#SOLUTIONS\n",
    "# Import required libraries\n",
    "import re\n",
    "\n",
    "corpus = [\"Ironhack is cool!\", \"I love Ironhack.\", \"I am a student at Ironhack.\"]\n",
    "\n",
    "# Define function\n",
    "def get_bow_from_docs(docs, stop_words=[]):\n",
    "    \n",
    "    bag_of_words = []\n",
    "    term_freq = []\n",
    "    lst = []\n",
    "    \n",
    "    docs = ' '.join(docs)\n",
    "    docs = docs.lower()\n",
    "    docs = re.split('[ .!]+', docs)\n",
    "            \n",
    "    for x in docs:\n",
    "        if x not in bag_of_words:\n",
    "            bag_of_words.append(x)\n",
    "            \n",
    "    for y in stop_words:\n",
    "        if y in bag_of_words:\n",
    "            bag_of_words.remove(y)\n",
    "            \n",
    "    for x in docs:\n",
    "        if x in bag_of_words:\n",
    "            term_freq.append(docs.count(x))\n",
    "        \n",
    "\n",
    "    \n",
    "# In the function, first define the variables you will use such as `corpus`, `bag_of_words`, and `term_freq`.\n",
    "        \n",
    "#     \"\"\"\n",
    "#     Loop `docs` and read the content of each doc into a string in `corpus`.\n",
    "#     Remember to convert the doc content to lowercases and remove punctuation.\n",
    "#     \"\"\"\n",
    "  \n",
    "#     \"\"\"\n",
    "#     Loop `corpus`. Append the terms in each doc into the `bag_of_words` array. The terms in `bag_of_words` \n",
    "#     should be unique which means before adding each term you need to check if it's already added to the array.\n",
    "#     In addition, check if each term is in the `stop_words` array. Only append the term to `bag_of_words`\n",
    "#     if it is not a stop word.\n",
    "#     \"\"\"\n",
    "    \n",
    "#     \"\"\"\n",
    "#     Loop `corpus` again. For each doc string, count the number of occurrences of each term in `bag_of_words`. \n",
    "#     Create an array for each doc's term frequency and append it to `term_freq`.\n",
    "#     \"\"\"\n",
    "\n",
    "    \n",
    "    \n",
    "    # Now return your output as an object\n",
    "    return {\n",
    "        \"bag_of_words\": bag_of_words,\n",
    "        \"term_freq\": term_freq\n",
    "    }\n",
    "get_bow_from_docs(corpus)\n",
    "    "
   ]
  },
  {
   "cell_type": "markdown",
   "metadata": {},
   "source": [
    "Test your function without stop words. You should see the output like below:\n",
    "\n",
    "```{'bag_of_words': ['ironhack', 'is', 'cool', 'i', 'love', 'am', 'a', 'student', 'at'], 'term_freq': [[1, 1, 1, 0, 0, 0, 0, 0, 0], [1, 0, 0, 1, 1, 0, 0, 0, 0], [1, 0, 0, 1, 0, 1, 1, 1, 1]]}```"
   ]
  },
  {
   "cell_type": "code",
   "execution_count": 91,
   "metadata": {},
   "outputs": [
    {
     "name": "stdout",
     "output_type": "stream",
     "text": [
      "['ironhack', 'is', 'cool', 'i', 'love', 'am', 'a', 'student', 'at', '']\n"
     ]
    }
   ],
   "source": [
    "# Define doc paths array\n",
    "corpus3 = [\"Ironhack is cool!\", \"I love Ironhack.\", \"I am a student at Ironhack.\"]\n",
    "\n",
    "# Obtain BoW from your function\n",
    "bow1 = get_bow_from_docs(corpus3)\n",
    "bow2 = bow1['bag_of_words']\n",
    "\n",
    "# Print BoW\n",
    "print(bow2)"
   ]
  },
  {
   "cell_type": "markdown",
   "metadata": {},
   "source": [
    "If your attempt above is successful, nice work done!\n",
    "\n",
    "Now test your function again with the stop words. In the previous lab we defined the stop words in a large array. In this lab, we'll import the stop words from Scikit-Learn."
   ]
  },
  {
   "cell_type": "code",
   "execution_count": 81,
   "metadata": {},
   "outputs": [
    {
     "name": "stdout",
     "output_type": "stream",
     "text": [
      "frozenset({'thick', 'though', 'with', 'four', 'whither', 'among', 'mill', 'below', 'further', 'otherwise', 'has', 'wherein', 'i', 'so', 'out', 'although', 'became', 'through', 'ours', 'namely', 'our', 'done', 'being', 'wherever', 'thereafter', 'serious', 'down', 'cry', 'him', 'seems', 'ltd', 'one', 'everything', 'which', 'amoungst', 'next', 'much', 'around', 'themselves', 'too', 'across', 'sometimes', 'can', 'whereupon', 'become', 'hereafter', 'put', 'former', 'several', 'since', 'sixty', 'everyone', 'please', 'had', 'five', 'where', 'sometime', 'whose', 'call', 'within', 'therefore', 'above', 'never', 'alone', 'none', 'behind', 'on', 'nobody', 'beforehand', 'perhaps', 'hasnt', 'amount', 'formerly', 'its', 'whom', 'her', 'once', 'was', 'each', 'if', 'anywhere', 'whenever', 'fire', 'there', 'such', 'bottom', 'an', 'same', 'from', 'latter', 'sincere', 're', 'two', 'upon', 'also', 'about', 'etc', 'nine', 'seemed', 'itself', 'describe', 'back', 'herein', 'throughout', 'why', 'others', 'were', 'must', 'together', 'fifty', 'moreover', 'do', 'thin', 'inc', 'bill', 'but', 'my', 'afterwards', 'someone', 'hereby', 'be', 'made', 'me', 'well', 'becomes', 'less', 'third', 'until', 'us', 'and', 'against', 'before', 'now', 'yours', 'these', 'ourselves', 'nothing', 'top', 'whereby', 'other', 'get', 'forty', 'however', 'un', 'you', 'whereafter', 'cannot', 'indeed', 'mostly', 'nevertheless', 'beside', 'under', 'always', 'yourself', 'many', 'whereas', 'rather', 'twenty', 'con', 'herself', 'toward', 'any', 'been', 'detail', 'enough', 'last', 'move', 'am', 'what', 'yourselves', 'often', 'except', 'may', 'the', 'thus', 'again', 'eg', 'least', 'whatever', 'something', 'keep', 'front', 'as', 'via', 'them', 'see', 'whence', 'every', 'not', 'is', 'over', 'thereby', 'cant', 'at', 'between', 'hundred', 'or', 'she', 'six', 'per', 'more', 'thereupon', 'could', 'ever', 'found', 'part', 'whether', 'show', 'both', 'elsewhere', 'when', 'only', 'those', 'whole', 'himself', 'along', 'co', 'system', 'still', 'noone', 'how', 'then', 'find', 'for', 'here', 'might', 'most', 'hence', 'of', 'seem', 'off', 'interest', 'myself', 'besides', 'should', 'anything', 'than', 'becoming', 'to', 'either', 'hers', 'de', 'go', 'it', 'after', 'while', 'we', 'onto', 'side', 'fifteen', 'somehow', 'neither', 'will', 'they', 'even', 'that', 'during', 'eleven', 'no', 'twelve', 'his', 'who', 'nor', 'already', 'meanwhile', 'hereupon', 'beyond', 'because', 'couldnt', 'take', 'yet', 'in', 'into', 'therein', 'would', 'first', 'ten', 'whoever', 'all', 'else', 'without', 'somewhere', 'your', 'fill', 'own', 'by', 'up', 'ie', 'anyway', 'nowhere', 'few', 'some', 'everywhere', 'mine', 'eight', 'are', 'have', 'seeming', 'full', 'almost', 'three', 'name', 'thru', 'he', 'towards', 'a', 'their', 'this', 'empty', 'anyone', 'give', 'due', 'anyhow', 'latterly', 'amongst', 'thence', 'another', 'very'})\n"
     ]
    },
    {
     "name": "stderr",
     "output_type": "stream",
     "text": [
      "C:\\Users\\svvan\\Anaconda3\\lib\\site-packages\\sklearn\\utils\\deprecation.py:143: FutureWarning: The sklearn.feature_extraction.stop_words module is  deprecated in version 0.22 and will be removed in version 0.24. The corresponding classes / functions should instead be imported from sklearn.feature_extraction.text. Anything that cannot be imported from sklearn.feature_extraction.text is now part of the private API.\n",
      "  warnings.warn(message, FutureWarning)\n"
     ]
    }
   ],
   "source": [
    "from sklearn.feature_extraction import stop_words\n",
    "print(stop_words.ENGLISH_STOP_WORDS)"
   ]
  },
  {
   "cell_type": "markdown",
   "metadata": {},
   "source": [
    "You should have seen a large list of words that looks like:\n",
    "\n",
    "```frozenset({'across', 'mine', 'cannot', ...})```\n",
    "\n",
    "`frozenset` is a type of Python object that is immutable. In this lab you can use it just like an array without conversion."
   ]
  },
  {
   "cell_type": "markdown",
   "metadata": {},
   "source": [
    "Next, test your function with supplying `stop_words.ENGLISH_STOP_WORDS` as the second parameter."
   ]
  },
  {
   "cell_type": "code",
   "execution_count": 94,
   "metadata": {},
   "outputs": [
    {
     "name": "stdout",
     "output_type": "stream",
     "text": [
      "{'bag_of_words': ['ironhack', 'cool', 'love', 'student', ''], 'term_freq': [1, 1, 1, 1, 1, 1, 1, 1, 1, 1]}\n"
     ]
    }
   ],
   "source": [
    "bow = get_bow_from_docs(bow2, stop_words.ENGLISH_STOP_WORDS)\n",
    "\n",
    "print(bow)"
   ]
  },
  {
   "cell_type": "markdown",
   "metadata": {},
   "source": [
    "You should have seen:\n",
    "\n",
    "```{'bag_of_words': ['ironhack', 'cool', 'love', 'student'], 'term_freq': [[1, 1, 0, 0], [1, 0, 1, 0], [1, 0, 0, 1]]}```"
   ]
  },
  {
   "cell_type": "code",
   "execution_count": null,
   "metadata": {},
   "outputs": [],
   "source": []
  }
 ],
 "metadata": {
  "kernelspec": {
   "display_name": "Python 3",
   "language": "python",
   "name": "python3"
  },
  "language_info": {
   "codemirror_mode": {
    "name": "ipython",
    "version": 3
   },
   "file_extension": ".py",
   "mimetype": "text/x-python",
   "name": "python",
   "nbconvert_exporter": "python",
   "pygments_lexer": "ipython3",
   "version": "3.8.3"
  }
 },
 "nbformat": 4,
 "nbformat_minor": 2
}
