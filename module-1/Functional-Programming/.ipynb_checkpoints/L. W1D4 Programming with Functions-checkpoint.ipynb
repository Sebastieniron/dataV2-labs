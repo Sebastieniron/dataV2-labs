{
 "cells": [
  {
   "cell_type": "code",
   "execution_count": 14,
   "metadata": {
    "scrolled": true
   },
   "outputs": [
    {
     "data": {
      "text/plain": [
       "'John was a man of many talents'"
      ]
     },
     "execution_count": 14,
     "metadata": {},
     "output_type": "execute_result"
    }
   ],
   "source": [
    "to_string = ['John', 'was', 'a', 'man', 'of', 'many', 'talents']\n",
    "\n",
    "def list2string(inputlist):\n",
    "    string = ' '.join(inputlist)\n",
    "    return string\n",
    "\n",
    "print(list2string(to_string))\n",
    "\n",
    "# def smallest_possible_function():\n",
    "#     pass\n"
   ]
  },
  {
   "cell_type": "code",
   "execution_count": 15,
   "metadata": {},
   "outputs": [
    {
     "name": "stdout",
     "output_type": "stream",
     "text": [
      "*John was a man of many talentsJohn was a man of many talents*\n"
     ]
    }
   ],
   "source": [
    "# fucntions can have more than 1 parameter\n",
    "def list2string(x, y):\n",
    "    string = ' '.join(x) * y\n",
    "    return string\n",
    "print('*'+list2string(to_string, 2)+'*')"
   ]
  },
  {
   "cell_type": "code",
   "execution_count": 29,
   "metadata": {},
   "outputs": [
    {
     "name": "stdout",
     "output_type": "stream",
     "text": [
      "a: 9 c: 45\n"
     ]
    }
   ],
   "source": [
    "a = 9\n",
    "\n",
    "def multiply(number,multiplier=2):\n",
    "    b = number * multiplier\n",
    "    #print('number =', number)\n",
    "    return b\n",
    "\n",
    "c = multiply(a,5)\n",
    "\n",
    "print(\"a:\", a, \"c:\", c)\n",
    "#print(\"a:\", a, \"c:\", multiply(a,5))\n"
   ]
  },
  {
   "cell_type": "code",
   "execution_count": 26,
   "metadata": {},
   "outputs": [
    {
     "ename": "NameError",
     "evalue": "name 'number' is not defined",
     "output_type": "error",
     "traceback": [
      "\u001b[0;31m---------------------------------------------------------------------------\u001b[0m",
      "\u001b[0;31mNameError\u001b[0m                                 Traceback (most recent call last)",
      "\u001b[0;32m<ipython-input-26-2aa172e8f5b8>\u001b[0m in \u001b[0;36m<module>\u001b[0;34m\u001b[0m\n\u001b[0;32m----> 1\u001b[0;31m \u001b[0mprint\u001b[0m\u001b[0;34m(\u001b[0m\u001b[0mnumber\u001b[0m\u001b[0;34m)\u001b[0m\u001b[0;34m\u001b[0m\u001b[0;34m\u001b[0m\u001b[0m\n\u001b[0m\u001b[1;32m      2\u001b[0m \u001b[0;34m\u001b[0m\u001b[0m\n",
      "\u001b[0;31mNameError\u001b[0m: name 'number' is not defined"
     ]
    }
   ],
   "source": [
    "print(number)\n",
    "\n"
   ]
  },
  {
   "cell_type": "code",
   "execution_count": null,
   "metadata": {},
   "outputs": [],
   "source": [
    "#function to, given an integer input, add the number 1...number"
   ]
  },
  {
   "cell_type": "code",
   "execution_count": 27,
   "metadata": {},
   "outputs": [
    {
     "data": {
      "text/plain": [
       "500"
      ]
     },
     "execution_count": 27,
     "metadata": {},
     "output_type": "execute_result"
    }
   ],
   "source": [
    "#you can explicitly name parameters in the function call to change the order\n",
    "multiply(multiplier=5, number=100)\n"
   ]
  },
  {
   "cell_type": "code",
   "execution_count": 38,
   "metadata": {},
   "outputs": [
    {
     "name": "stdout",
     "output_type": "stream",
     "text": [
      "['Monday', 'Tuesday', 'Wednesday']\n",
      "('error', 'error', 'error')\n",
      "Wednesday\n",
      "Tuesday\n",
      "Friday\n"
     ]
    }
   ],
   "source": [
    "weekdays = ['Monday','Tuesday','Wednesday','Thursday','Friday']\n",
    "weekend = ['Saturday', 'Sunday']\n",
    "\n",
    "def get_first_three_elements(jan):\n",
    "    if len(jan)>=3:\n",
    "        # can only return one 'thing', in this case we return a tuple\n",
    "        return [jan[0],jan[1],jan[2]]\n",
    "    else:\n",
    "        # there are better ways to signal that an eror has occurred\n",
    "        return ('error', 'error', 'error')\n",
    "\n",
    "print (get_first_three_elements(weekdays))\n",
    "\n",
    "print (get_first_three_elements(weekend))\n",
    "\n",
    "\n",
    "day1, day2, day3 = get_first_three_elements(weekdays)\n",
    "\n",
    "# equivalent to \n",
    "# (day1, day2, day3) = get_first_three_elements(weekdays)\n",
    "\n",
    "\n",
    "print(day3)\n",
    "print(day2)\n",
    "day1=\"Friday\"\n",
    "print(day1)\n",
    "\n"
   ]
  },
  {
   "cell_type": "code",
   "execution_count": 40,
   "metadata": {},
   "outputs": [
    {
     "data": {
      "text/html": [
       "<div>\n",
       "<style scoped>\n",
       "    .dataframe tbody tr th:only-of-type {\n",
       "        vertical-align: middle;\n",
       "    }\n",
       "\n",
       "    .dataframe tbody tr th {\n",
       "        vertical-align: top;\n",
       "    }\n",
       "\n",
       "    .dataframe thead th {\n",
       "        text-align: right;\n",
       "    }\n",
       "</style>\n",
       "<table border=\"1\" class=\"dataframe\">\n",
       "  <thead>\n",
       "    <tr style=\"text-align: right;\">\n",
       "      <th></th>\n",
       "      <th>Column</th>\n",
       "      <th>Mean</th>\n",
       "    </tr>\n",
       "  </thead>\n",
       "  <tbody>\n",
       "    <tr>\n",
       "      <td>0</td>\n",
       "      <td>Year</td>\n",
       "      <td>2000.716400</td>\n",
       "    </tr>\n",
       "    <tr>\n",
       "      <td>1</td>\n",
       "      <td>Engine Displacement</td>\n",
       "      <td>3.338493</td>\n",
       "    </tr>\n",
       "    <tr>\n",
       "      <td>2</td>\n",
       "      <td>Cylinders</td>\n",
       "      <td>5.765076</td>\n",
       "    </tr>\n",
       "    <tr>\n",
       "      <td>3</td>\n",
       "      <td>Fuel Barrels/Year</td>\n",
       "      <td>17.609056</td>\n",
       "    </tr>\n",
       "    <tr>\n",
       "      <td>4</td>\n",
       "      <td>City MPG</td>\n",
       "      <td>17.646139</td>\n",
       "    </tr>\n",
       "    <tr>\n",
       "      <td>5</td>\n",
       "      <td>Highway MPG</td>\n",
       "      <td>23.880646</td>\n",
       "    </tr>\n",
       "    <tr>\n",
       "      <td>6</td>\n",
       "      <td>Combined MPG</td>\n",
       "      <td>19.929322</td>\n",
       "    </tr>\n",
       "    <tr>\n",
       "      <td>7</td>\n",
       "      <td>CO2 Emission Grams/Mile</td>\n",
       "      <td>475.316339</td>\n",
       "    </tr>\n",
       "    <tr>\n",
       "      <td>8</td>\n",
       "      <td>Fuel Cost/Year</td>\n",
       "      <td>1892.598465</td>\n",
       "    </tr>\n",
       "  </tbody>\n",
       "</table>\n",
       "</div>"
      ],
      "text/plain": [
       "                    Column         Mean\n",
       "0                     Year  2000.716400\n",
       "1      Engine Displacement     3.338493\n",
       "2                Cylinders     5.765076\n",
       "3        Fuel Barrels/Year    17.609056\n",
       "4                 City MPG    17.646139\n",
       "5              Highway MPG    23.880646\n",
       "6             Combined MPG    19.929322\n",
       "7  CO2 Emission Grams/Mile   475.316339\n",
       "8           Fuel Cost/Year  1892.598465"
      ]
     },
     "execution_count": 40,
     "metadata": {},
     "output_type": "execute_result"
    }
   ],
   "source": [
    "import pandas as pd\n",
    "\n",
    "data = pd.read_csv('./vehicles.csv')\n",
    "# data\n",
    "def get_means(df):\n",
    "    numeric = df._get_numeric_data()\n",
    "    means = pd.DataFrame(numeric.mean()).reset_index()\n",
    "    means.columns = ['Column', 'Mean']\n",
    "    return means\n",
    "\n",
    "mean_df = get_means(data)\n",
    "mean_df\n"
   ]
  },
  {
   "cell_type": "code",
   "execution_count": null,
   "metadata": {},
   "outputs": [],
   "source": []
  }
 ],
 "metadata": {
  "kernelspec": {
   "display_name": "Python 3",
   "language": "python",
   "name": "python3"
  },
  "language_info": {
   "codemirror_mode": {
    "name": "ipython",
    "version": 3
   },
   "file_extension": ".py",
   "mimetype": "text/x-python",
   "name": "python",
   "nbconvert_exporter": "python",
   "pygments_lexer": "ipython3",
   "version": "3.8.3"
  }
 },
 "nbformat": 4,
 "nbformat_minor": 2
}
