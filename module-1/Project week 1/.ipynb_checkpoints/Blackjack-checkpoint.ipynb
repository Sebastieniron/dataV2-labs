{
 "cells": [
  {
   "cell_type": "code",
   "execution_count": 128,
   "metadata": {},
   "outputs": [],
   "source": [
    "import random\n",
    "\n",
    "deck = []\n",
    "\n",
    "#Defining a function that creates a random deck\n",
    "\n",
    "def play_deck():\n",
    "    a_deck = [2,3,4,5,6,7,8,9,10,10,10,10,11]*4\n",
    "    random.shuffle(a_deck)\n",
    "    return a_deck[:]\n",
    "\n",
    "deck = play_deck()\n",
    "# print(deck)\n",
    "\n",
    "\n",
    "# A jack, queen & king count as 10. That is why there are 16 tens in the pack.\n",
    "#There are no 1's in the deck since an ace can count as an 11 or a 1. The value of the ace will be decided depending on the\n",
    "#current total of the player.\n"
   ]
  },
  {
   "cell_type": "code",
   "execution_count": 142,
   "metadata": {},
   "outputs": [
    {
     "name": "stdout",
     "output_type": "stream",
     "text": [
      "Player cards: [11, 5]\n",
      "Dealer cards: [10, 4]\n"
     ]
    }
   ],
   "source": [
    "cards_player = []\n",
    "cards_dealer = []\n",
    "\n",
    "def deal_cards():\n",
    "    \n",
    "    #First two cards are dealt to each player and removed from the deck\n",
    "    cards_player.append(deck.pop(0))\n",
    "    cards_dealer.append(deck.pop(0))\n",
    "    cards_player.append(deck.pop(0))\n",
    "    cards_dealer.append(deck.pop(0))\n",
    "    print(\"Player cards:\", cards_player)\n",
    "    print(\"Dealer cards:\", cards_dealer)\n",
    "    \n",
    "deal_cards()  "
   ]
  },
  {
   "cell_type": "code",
   "execution_count": 130,
   "metadata": {},
   "outputs": [],
   "source": [
    "#Another card is dealt to the player and removed from the deck.\n",
    "\n",
    "def deal_player():\n",
    "    cards_player.append(deck.pop(0))\n",
    "    print(\"Player cards:\", cards_player)\n",
    "    \n",
    "#Another card is dealt to the dealer and removed from the deck.\n",
    "    \n",
    "def deal_dealer():\n",
    "    cards_dealer.append(deck.pop(0))\n",
    "    print(\"Dealer cards:\", cards_dealer)\n",
    "\n",
    "# deal()"
   ]
  },
  {
   "cell_type": "code",
   "execution_count": 144,
   "metadata": {},
   "outputs": [
    {
     "name": "stdout",
     "output_type": "stream",
     "text": [
      "Players turn:\n",
      "Do you wish to have another card dealt to you? yes\n",
      "Player cards: [5, 6, 1, 10]\n",
      "Your total at the moment is: 22\n"
     ]
    }
   ],
   "source": [
    "#Player's turn: player gets asked if he wants to have another card, until he answers no.\n",
    "\n",
    "print(\"Players turn:\")\n",
    "answer = input(\"Do you wish to have another card dealt to you? \")\n",
    "\n",
    "if answer == 'yes':\n",
    "    deal_player()\n",
    "    \n",
    "#Function to assign the value \"1\" to the Ace instead of \"11\" due to busting.\n",
    "\n",
    "#     if sum(cards_player) > 21:\n",
    "#         for n in cards_player:\n",
    "#             if n==11:\n",
    "#                 cards_player.remove(n)\n",
    "#                 cards_player.append(1)\n",
    "    \n",
    "    print(\"Your total at the moment is:\", sum(cards_player))\n",
    "    \n",
    "if answer == 'no':\n",
    "    print(\"Your cards:\",cards_player)\n",
    "    print(\"Your total is:\", sum(cards_player), \". Dealer's turn.\")"
   ]
  },
  {
   "cell_type": "code",
   "execution_count": 140,
   "metadata": {},
   "outputs": [
    {
     "name": "stdout",
     "output_type": "stream",
     "text": [
      "Dealers turn:\n",
      "Do you wish to have another card dealt to you? yes\n",
      "Dealer cards: [10, 10, 1, 3]\n",
      "Your total at the moment is: 24\n"
     ]
    }
   ],
   "source": [
    "#Dealer's turn: dealer gets asked if he wants to have another card, until he answers no.\n",
    "\n",
    "print(\"Dealers turn:\")\n",
    "answer = input(\"Do you wish to have another card dealt to you? \")\n",
    "\n",
    "if answer == 'yes':\n",
    "    deal_dealer()\n",
    "    \n",
    "#Function to assign the value \"1\" to the Ace instead of \"11\" due to busting.    \n",
    "    \n",
    "#     if sum(cards_dealer) > 21:\n",
    "#         for n in cards_dealer:\n",
    "#             if n==11:\n",
    "#                 cards_dealer.remove(n)\n",
    "#                 cards_dealer.append(1)\n",
    "    \n",
    "    print(\"Your total at the moment is:\", sum(cards_dealer))\n",
    "    \n",
    "if answer == 'no':\n",
    "    print(\"Dealer's cards:\",cards_dealer)\n",
    "    print(\"Your total is:\", sum(cards_dealer))"
   ]
  },
  {
   "cell_type": "code",
   "execution_count": 135,
   "metadata": {},
   "outputs": [
    {
     "name": "stdout",
     "output_type": "stream",
     "text": [
      "Player wins with: 20 vs dealer who busted: 24\n"
     ]
    }
   ],
   "source": [
    "#The winner gets announced by comparing scores.\n",
    "\n",
    "if sum(cards_player) > 21:\n",
    "    print(cards_player, \"Ouch you busted! Your total is:\", sum(cards_player),\". Dealer wins!\")\n",
    "    \n",
    "if sum(cards_player) < 21 and sum(cards_dealer) > 21:\n",
    "    print(\"Player wins with:\",sum(cards_player), \"vs dealer who busted:\", sum(cards_dealer))\n",
    "    \n",
    "if sum(cards_player) > sum(cards_dealer) and sum(cards_player) <= 21:\n",
    "    print(\"Player wins with:\",sum(cards_player), \"vs dealer:\", sum(cards_dealer))\n",
    "\n",
    "if sum(cards_player) <= sum(cards_dealer) and sum(cards_dealer) <= 21:\n",
    "    print(\"Dealer wins with:\", sum(cards_dealer), \"vs player:\", sum(cards_player))\n",
    "    \n",
    "\n",
    "\n"
   ]
  },
  {
   "cell_type": "code",
   "execution_count": null,
   "metadata": {},
   "outputs": [],
   "source": []
  }
 ],
 "metadata": {
  "kernelspec": {
   "display_name": "Python 3",
   "language": "python",
   "name": "python3"
  },
  "language_info": {
   "codemirror_mode": {
    "name": "ipython",
    "version": 3
   },
   "file_extension": ".py",
   "mimetype": "text/x-python",
   "name": "python",
   "nbconvert_exporter": "python",
   "pygments_lexer": "ipython3",
   "version": "3.8.3"
  }
 },
 "nbformat": 4,
 "nbformat_minor": 4
}
