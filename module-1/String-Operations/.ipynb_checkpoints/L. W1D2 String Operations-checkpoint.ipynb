{
 "cells": [
  {
   "cell_type": "code",
   "execution_count": 1,
   "metadata": {},
   "outputs": [],
   "source": [
    "str1 = \"this is a string\"\n",
    "str2 = 'also a string'\n",
    "str3 = 'dkhgr12876&^%' # also a string\n",
    "str4 = \"a string can contain a ' character, or even a 'string'.\"\n",
    "str5 = \"\" # the empty string is also a string"
   ]
  },
  {
   "cell_type": "code",
   "execution_count": 3,
   "metadata": {},
   "outputs": [
    {
     "name": "stdout",
     "output_type": "stream",
     "text": [
      "Hello World\n",
      "HelloWorld\n"
     ]
    }
   ],
   "source": [
    "print('Hello' , 'World')\n",
    "str1 = 'Hello'\n",
    "str2 = 'World'\n",
    "str3 = str1 + str2\n",
    "print(str3)"
   ]
  },
  {
   "cell_type": "code",
   "execution_count": 6,
   "metadata": {},
   "outputs": [
    {
     "name": "stdout",
     "output_type": "stream",
     "text": [
      "HelloHelloHelloHelloHelloHelloHelloHello\n"
     ]
    }
   ],
   "source": [
    "print('Hello' * 8)"
   ]
  },
  {
   "cell_type": "code",
   "execution_count": 18,
   "metadata": {},
   "outputs": [
    {
     "name": "stdout",
     "output_type": "stream",
     "text": [
      "['Happy', 'Happy', 'Puppies']\n",
      "Happy Happy Puppies\n"
     ]
    }
   ],
   "source": [
    "x = 'Happy'\n",
    "y = 'Puppies'\n",
    "z = [x,x,y]\n",
    "#a = [1,2,3]\n",
    "\n",
    "print(z)\n",
    "print(' '.join(z)) \n",
    "#print(' '.join(a))"
   ]
  },
  {
   "cell_type": "code",
   "execution_count": 19,
   "metadata": {},
   "outputs": [
    {
     "data": {
      "text/plain": [
       "10"
      ]
     },
     "execution_count": 19,
     "metadata": {},
     "output_type": "execute_result"
    }
   ],
   "source": [
    "len('automobile')"
   ]
  },
  {
   "cell_type": "code",
   "execution_count": 26,
   "metadata": {},
   "outputs": [
    {
     "name": "stdout",
     "output_type": "stream",
     "text": [
      "a\n",
      "o\n",
      "l\n",
      "elibomotua\n"
     ]
    }
   ],
   "source": [
    "word = 'automobile'\n",
    "\n",
    "print(word[0])\n",
    "print(word[5])\n",
    "print(word[-2])\n",
    "print(word[::-1])"
   ]
  },
  {
   "cell_type": "code",
   "execution_count": 33,
   "metadata": {},
   "outputs": [
    {
     "name": "stdout",
     "output_type": "stream",
     "text": [
      "['They', 'ate', 'the', 'mystery', 'meat.', 'It', 'tasted', 'like', 'chicken.']\n",
      "They\n",
      "['They ate the mystery meat', ' It tasted like chicken', '']\n",
      "['They ate the ', 'ystery ', 'eat. It tasted like chicken.']\n",
      "['T', 'y ate t', ' mystery meat. It tasted like chicken.']\n"
     ]
    }
   ],
   "source": [
    "a = 'They ate the mystery meat. It tasted like chicken.'\n",
    "\n",
    "print(a.split())\n",
    "b = a.split()\n",
    "print(b[0])\n",
    "print(a.split('.'))\n",
    "print(a.split('m'))\n",
    "\n",
    "print(a.split('he'))\n",
    "\n"
   ]
  },
  {
   "cell_type": "code",
   "execution_count": 37,
   "metadata": {},
   "outputs": [
    {
     "name": "stdout",
     "output_type": "stream",
     "text": [
      "True\n",
      "True\n",
      "False\n"
     ]
    }
   ],
   "source": [
    "b = 'There is no business like show business.'\n",
    "\n",
    "print(b.startswith('T'))\n",
    "print(b.startswith('There'))\n",
    "print(b.startswith('there'))"
   ]
  },
  {
   "cell_type": "code",
   "execution_count": 40,
   "metadata": {},
   "outputs": [
    {
     "name": "stdout",
     "output_type": "stream",
     "text": [
      "True\n",
      "True\n",
      "False\n"
     ]
    }
   ],
   "source": [
    "b = 'There is no business like show business.'\n",
    "\n",
    "print(b.endswith('.'))\n",
    "print(b.endswith('business.'))\n",
    "print(b.endswith('Business.'))"
   ]
  },
  {
   "cell_type": "code",
   "execution_count": 4,
   "metadata": {},
   "outputs": [
    {
     "name": "stdout",
     "output_type": "stream",
     "text": [
      "* I have a tendency to leave trailing spaces. *\n"
     ]
    }
   ],
   "source": [
    "d = ' I have a tendency to leave trailing spaces. '\n",
    "\n",
    "print(d)\n",
    "print('*'+d+'*')\n",
    "print('*'+d.strip()+'*')\n",
    "print('*'+d.lstrip()+'*')\n",
    "print('*'+d.rstrip()+'*')\n",
    "\n"
   ]
  },
  {
   "cell_type": "code",
   "execution_count": 47,
   "metadata": {},
   "outputs": [
    {
     "name": "stdout",
     "output_type": "stream",
     "text": [
      "True\n",
      "True\n",
      "False\n"
     ]
    }
   ],
   "source": [
    "print('like' in b)\n",
    "print('business' in b)\n",
    "print('Business.' in b)"
   ]
  },
  {
   "cell_type": "code",
   "execution_count": 51,
   "metadata": {},
   "outputs": [
    {
     "name": "stdout",
     "output_type": "stream",
     "text": [
      "she had a marvelous assortment of puppets. wow!\n",
      "SHE HAD A MARVELOUS ASSORTMENT OF PUPPETS. WOW!\n",
      "She had a marvelous assortment of puppets. wow!\n",
      "She Had A Marvelous Assortment Of Puppets. Wow!\n"
     ]
    }
   ],
   "source": [
    "c = 'shE HaD a maRveLoUs aSsoRtmeNt of PUPPETS. Wow!'\n",
    "print(c.lower())\n",
    "print(c.upper())\n",
    "print(c.capitalize())\n",
    "print(c.title())"
   ]
  },
  {
   "cell_type": "code",
   "execution_count": null,
   "metadata": {},
   "outputs": [],
   "source": [
    "\n"
   ]
  },
  {
   "cell_type": "code",
   "execution_count": 58,
   "metadata": {},
   "outputs": [
    {
     "name": "stdout",
     "output_type": "stream",
     "text": [
      "I thought the movie was horrible!\n",
      "I thought the song was horrible!\n",
      "I thought the movie was horrible!\n",
      "I thought the movie was just OKible!\n"
     ]
    }
   ],
   "source": [
    "e = 'I thought the movie was wonderful!'\n",
    "\n",
    "print(e.replace('wonderful', 'horrible'))\n",
    "e=e.replace('wonderful', 'horrible')\n",
    "print(e.replace('movie', 'song'))\n",
    "print(e)\n",
    "\n",
    "print(e.replace('horr', 'just OK'))\n"
   ]
  },
  {
   "cell_type": "code",
   "execution_count": 69,
   "metadata": {},
   "outputs": [
    {
     "name": "stdout",
     "output_type": "stream",
     "text": [
      "number of characters: 82\n",
      "number of words: 12\n",
      "['Allen die zich in Nederland bevinden', ' worden in gelijke gevallen gelijk behandeld.']\n",
      "ALLEN DIE ZICH IN NEDERLAND BEVINDEN,  worden in gelijke gevallen gelijk behandeld.\n",
      "Allen die zich in Nederland bevinden, worden in gelijke gevallen ongelijk behandeld.\n"
     ]
    }
   ],
   "source": [
    "str1 = \"Allen die zich in Nederland bevinden, worden in gelijke gevallen gelijk behandeld.\"\n",
    "\n",
    "# find the number of characters in the string\n",
    "print(\"number of characters:\", len(str1))\n",
    "# find the number of words in the string\n",
    "print(\"number of words:\", len(str1.split()))\n",
    "# write the first part of the sentence in all caps\n",
    "lst = str1.split(',')\n",
    "print(lst)\n",
    "print(lst[0].upper()+',', lst[1])\n",
    "# change the word 'gelijk' into 'ongelijk'\n",
    "print(str1.replace('gelijk ', 'ongelijk '))"
   ]
  },
  {
   "cell_type": "code",
   "execution_count": 6,
   "metadata": {},
   "outputs": [],
   "source": [
    "import re # Regular Expressions"
   ]
  },
  {
   "cell_type": "code",
   "execution_count": 7,
   "metadata": {},
   "outputs": [
    {
     "name": "stdout",
     "output_type": "stream",
     "text": [
      "['neigh', 'neigh']\n"
     ]
    }
   ],
   "source": [
    "text = 'My neighbor, Mr. Rogers, has 53 dogs and 3 cats. His horse neighed.'\n",
    "print(re.findall('neigh', text))"
   ]
  },
  {
   "cell_type": "code",
   "execution_count": 77,
   "metadata": {},
   "outputs": [
    {
     "name": "stdout",
     "output_type": "stream",
     "text": [
      "['n', 'g', 'b', 'o', 'r', 'r', 'o', 'g', 'r', 's', 's', 'o', 'g', 's', 's', 'o', 'r', 's', 'n', 'g']\n"
     ]
    }
   ],
   "source": [
    "print(re.findall('[ngbors]', text))"
   ]
  },
  {
   "cell_type": "code",
   "execution_count": 78,
   "metadata": {},
   "outputs": [
    {
     "name": "stdout",
     "output_type": "stream",
     "text": [
      "['5', '3']\n"
     ]
    }
   ],
   "source": [
    "print(re.findall('[0-9]', text))\n"
   ]
  },
  {
   "cell_type": "code",
   "execution_count": 80,
   "metadata": {},
   "outputs": [
    {
     "name": "stdout",
     "output_type": "stream",
     "text": [
      "['y', 'n', 'e', 'i', 'g', 'h', 'b', 'o', 'r', 'r', 'o', 'g', 'e', 'r', 's', 'h', 'a', 's', 'd', 'o', 'g', 's', 'i', 's', 'h', 'o', 'r', 's', 'e', 'n', 'e', 'i', 'g', 'h', 'e', 'd']\n"
     ]
    }
   ],
   "source": [
    "print(re.findall('[^a-z]', text))"
   ]
  },
  {
   "cell_type": "code",
   "execution_count": 81,
   "metadata": {},
   "outputs": [
    {
     "name": "stdout",
     "output_type": "stream",
     "text": [
      "['M', 'y', 'n', 'e', 'i', 'g', 'h', 'b', 'o', 'r', 'M', 'r', 'R', 'o', 'g', 'e', 'r', 's', 'h', 'a', 's', 'd', 'o', 'g', 's', 'H', 'i', 's', 'h', 'o', 'r', 's', 'e', 'n', 'e', 'i', 'g', 'h', 'e', 'd']\n"
     ]
    }
   ],
   "source": [
    "print(re.findall('[a-zA-Z]', text))"
   ]
  },
  {
   "cell_type": "code",
   "execution_count": 82,
   "metadata": {},
   "outputs": [
    {
     "name": "stdout",
     "output_type": "stream",
     "text": [
      "['5', '3']\n"
     ]
    }
   ],
   "source": [
    "print(re.findall('[\\d]', text))"
   ]
  },
  {
   "cell_type": "code",
   "execution_count": 83,
   "metadata": {},
   "outputs": [
    {
     "name": "stdout",
     "output_type": "stream",
     "text": [
      "['M', 'y', 'n', 'e', 'i', 'g', 'h', 'b', 'o', 'r', 'M', 'r', 'R', 'o', 'g', 'e', 'r', 's', 'h', 'a', 's', '5', '3', 'd', 'o', 'g', 's', 'H', 'i', 's', 'h', 'o', 'r', 's', 'e', 'n', 'e', 'i', 'g', 'h', 'e', 'd']\n"
     ]
    }
   ],
   "source": [
    "print(re.findall('[\\w]', text))"
   ]
  },
  {
   "cell_type": "code",
   "execution_count": 84,
   "metadata": {},
   "outputs": [
    {
     "name": "stdout",
     "output_type": "stream",
     "text": [
      "['M', 'y', ' ', 'n', 'e', 'i', 'g', 'h', 'b', 'o', 'r', ' ', 'M', 'r', ' ', 'R', 'o', 'g', 'e', 'r', 's', ' ', 'h', 'a', 's', ' ', '5', '3', ' ', 'd', 'o', 'g', 's', ' ', 'H', 'i', 's', ' ', 'h', 'o', 'r', 's', 'e', ' ', 'n', 'e', 'i', 'g', 'h', 'e', 'd']\n"
     ]
    }
   ],
   "source": [
    "print(re.findall('[\\s\\w]', text))"
   ]
  },
  {
   "cell_type": "code",
   "execution_count": 85,
   "metadata": {},
   "outputs": [
    {
     "name": "stdout",
     "output_type": "stream",
     "text": [
      "['M', 'y', ' ', 'n', 'e', 'i', 'g', 'h', 'b', 'o', 'r', ',', ' ', 'M', 'r', '.', ' ', 'R', 'o', 'g', 'e', 'r', 's', ',', ' ', 'h', 'a', 's', ' ', '5', '3', ' ', 'd', 'o', 'g', 's', '.', ' ', 'H', 'i', 's', ' ', 'h', 'o', 'r', 's', 'e', ' ', 'n', 'e', 'i', 'g', 'h', 'e', 'd', '.']\n"
     ]
    }
   ],
   "source": [
    "print(re.findall('.', text))"
   ]
  },
  {
   "cell_type": "code",
   "execution_count": 91,
   "metadata": {},
   "outputs": [
    {
     "name": "stdout",
     "output_type": "stream",
     "text": [
      "['53', '3']\n"
     ]
    }
   ],
   "source": [
    "print(re.findall('[\\d]+', text))"
   ]
  },
  {
   "cell_type": "code",
   "execution_count": 92,
   "metadata": {},
   "outputs": [
    {
     "name": "stdout",
     "output_type": "stream",
     "text": [
      "['My neighbor, Mr. Rogers, has ', ' dogs and ', ' cats. His horse neighed.']\n"
     ]
    }
   ],
   "source": [
    "print(re.split('[\\d]+', text))"
   ]
  },
  {
   "cell_type": "code",
   "execution_count": 96,
   "metadata": {},
   "outputs": [
    {
     "name": "stdout",
     "output_type": "stream",
     "text": [
      "['My', 'neighbor,', 'Mr', 'Rogers,', 'has', '53', 'dogs', 'and', '3', 'cats', 'His', 'horse', 'neighed', '']\n",
      "['My neighbor, Mr. Rogers, has 53 dogs and 3 cats. His horse neighed.']\n"
     ]
    }
   ],
   "source": [
    "print(re.split('[ .]+', text))\n",
    "print(text.split('[ .]+'))"
   ]
  },
  {
   "cell_type": "code",
   "execution_count": 97,
   "metadata": {},
   "outputs": [
    {
     "name": "stdout",
     "output_type": "stream",
     "text": [
      "My neighbor, Mr. Rogers, has 100 dogs and 100 cats. His horse neighed.\n"
     ]
    }
   ],
   "source": [
    "print(re.sub('[0-9]+', '100', text))"
   ]
  },
  {
   "cell_type": "code",
   "execution_count": null,
   "metadata": {},
   "outputs": [],
   "source": []
  },
  {
   "cell_type": "code",
   "execution_count": null,
   "metadata": {},
   "outputs": [],
   "source": [
    "str1 = \"Allen die zich in Nederland bevinden, worden in gelijke gevallen gelijk behandeld.\"\n",
    "\n",
    "# find the number of characters in the string\n",
    "\n",
    "# find the number of words in the string\n",
    "\n",
    "# write the first part of the sentence in all caps\n"
   ]
  }
 ],
 "metadata": {
  "kernelspec": {
   "display_name": "Python 3",
   "language": "python",
   "name": "python3"
  },
  "language_info": {
   "codemirror_mode": {
    "name": "ipython",
    "version": 3
   },
   "file_extension": ".py",
   "mimetype": "text/x-python",
   "name": "python",
   "nbconvert_exporter": "python",
   "pygments_lexer": "ipython3",
   "version": "3.8.3"
  }
 },
 "nbformat": 4,
 "nbformat_minor": 2
}
