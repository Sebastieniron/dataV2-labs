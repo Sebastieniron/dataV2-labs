{
 "cells": [
  {
   "cell_type": "code",
   "execution_count": 4,
   "metadata": {},
   "outputs": [],
   "source": [
    "# l = List()\n",
    "\n",
    "# integer_list =  [1, 1, 2 ,3 ,1 ,2 ,3 ,4]\n",
    "# values_list = [1, 3]\n",
    "# l.remove_(integer_list, values_list) == [2, 2, 4]\n",
    "\n",
    "# integer_list = [1, 1, 2 ,3 ,1 ,2 ,3 ,4, 4, 3 ,5, 6, 7, 2, 8]\n",
    "# lst = [1, 3, 4, 2]\n",
    "# l.remove_(integer_list, values_list) == [5, 6 ,7 ,8]\n",
    "\n",
    "# integer_list = [8, 2, 7, 2, 3, 4, 6, 5, 4, 4, 1, 2 , 3]\n",
    "# lst = [2, 4, 3]\n",
    "# l.remove_(integer_list, values_list) == [8, 7, 6, 5, 1]"
   ]
  },
  {
   "cell_type": "code",
   "execution_count": 38,
   "metadata": {},
   "outputs": [
    {
     "data": {
      "text/plain": [
       "[1, 3, 5, 7, 9, 10]"
      ]
     },
     "execution_count": 38,
     "metadata": {},
     "output_type": "execute_result"
    }
   ],
   "source": [
    "#CHALLENGE 1\n",
    "class Listing():\n",
    "    anti_values = [2,4,6,8]\n",
    "    \n",
    "    def __init__(self, lists):\n",
    "        self.lists = lists\n",
    "        \n",
    "    def show_list(self):\n",
    "        print(self.lists)\n",
    "        \n",
    "    def removal(self):\n",
    "        return [x for x in self.lists if x not in self.anti_values]\n",
    "        \n",
    "        \n",
    "\n",
    "l1 = [1,2,3,4,5,6,7,8,9,10]\n",
    "l1 = Listing(l1)\n",
    "# Listing.show_list(l1)\n",
    "Listing.removal(l1)\n",
    "\n",
    "        \n",
    "        \n",
    "        \n",
    "        "
   ]
  },
  {
   "cell_type": "code",
   "execution_count": null,
   "metadata": {},
   "outputs": [],
   "source": [
    "# l = List()\n",
    "\n",
    "# integers_list =  [1, 1, 2 ,3 ,1 ,2 ,3 ,4]\n",
    "# digits_list = [1, 3]\n",
    "# l.count_spec_digits(integers_list, digits_list) == [(1, 3), (3, 2)]\n",
    "\n",
    "# integers_list = [-18, -31, 81, -19, 111, -888]\n",
    "# digits_list = [1, 8, 4]\n",
    "# l.count_spec_digits(integers_list, digits_list) == [(1, 7), (8, 5), (4, 0)]\n",
    "\n",
    "# integers_list = [-77, -65, 56, -79, 6666, 222]\n",
    "# digits_list = [1, 8, 4]\n",
    "# l.count_spec_digits(integers_list, digits_list) == [(1, 0), (8, 0), (4, 0)]"
   ]
  },
  {
   "cell_type": "code",
   "execution_count": 104,
   "metadata": {},
   "outputs": [
    {
     "data": {
      "text/plain": [
       "((2, 2), (4, 1))"
      ]
     },
     "execution_count": 104,
     "metadata": {},
     "output_type": "execute_result"
    }
   ],
   "source": [
    "#CHALLENGE 2\n",
    "class Counting():\n",
    "    digits_list = [2,4]\n",
    "    \n",
    "    def __init__(self, count_list):\n",
    "        self.count_list = count_list\n",
    "        \n",
    "    def showlist(self):\n",
    "        print(self.count_list)\n",
    "        \n",
    "    def count(self):\n",
    "        self.digits_list =  [x for x in self.digits_list]\n",
    "        self.count_list = [self.count_list.count(y) for y in self.digits_list]\n",
    "        z = zip(self.digits_list, self.count_list)\n",
    "        return tuple(z)\n",
    "    \n",
    "c1 = [1,2,2,4,5,6]\n",
    "c1 = Counting(c1)\n",
    "Counting.count(c1)\n",
    "\n",
    "#For some reason it is giving me the error: 'List object not callable' when I want to get a list of tuples.\n",
    "# return list(z)   is not working.\n"
   ]
  },
  {
   "cell_type": "code",
   "execution_count": 116,
   "metadata": {},
   "outputs": [
    {
     "data": {
      "text/plain": [
       "(('y', 2), ('a', 1), ('y', 2), ('e', 2), ('e', 2), ('t', 1))"
      ]
     },
     "execution_count": 116,
     "metadata": {},
     "output_type": "execute_result"
    }
   ],
   "source": [
    "#CHALLENGE 3\n",
    "import numpy as np\n",
    "\n",
    "class charcount():\n",
    "    char = []\n",
    "    \n",
    "    def __init__(self, charlist):\n",
    "        self.charlist = charlist\n",
    "    \n",
    "    def showlist(self):\n",
    "        print(self.charlist)\n",
    "        \n",
    "    def count(self):\n",
    "        self.char =  [x for x in self.charlist]\n",
    "        self.charlist = [self.charlist.count(y) for y in self.char]\n",
    "        s = zip(self.char, self.charlist)\n",
    "        return tuple(s)\n",
    "        \n",
    "    \n",
    "word = (\"yayeet\")\n",
    "word = charcount(word)\n",
    "# charcount.showlist(word)\n",
    "charcount.count(word)\n",
    "    \n",
    "    "
   ]
  },
  {
   "cell_type": "code",
   "execution_count": null,
   "metadata": {},
   "outputs": [],
   "source": []
  }
 ],
 "metadata": {
  "kernelspec": {
   "display_name": "Python 3",
   "language": "python",
   "name": "python3"
  },
  "language_info": {
   "codemirror_mode": {
    "name": "ipython",
    "version": 3
   },
   "file_extension": ".py",
   "mimetype": "text/x-python",
   "name": "python",
   "nbconvert_exporter": "python",
   "pygments_lexer": "ipython3",
   "version": "3.8.3"
  }
 },
 "nbformat": 4,
 "nbformat_minor": 4
}
