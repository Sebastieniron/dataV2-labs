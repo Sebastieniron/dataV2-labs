{
 "cells": [
  {
   "cell_type": "code",
   "execution_count": 20,
   "metadata": {},
   "outputs": [],
   "source": [
    "# list\n",
    "lst1 = [1,2.5,3,4,5,6]\n",
    "lst2 = ['string','another string','yet another']\n",
    "\n",
    "lst3 = ['string', 1.3, 5, [1, 'second string'], {'John':'34-555-1234'}]"
   ]
  },
  {
   "cell_type": "code",
   "execution_count": 21,
   "metadata": {},
   "outputs": [],
   "source": [
    "# lst1:\n",
    "#     0 -> (type: int, value: 1)\n",
    "#     1 -> (type:float, value:2.5)\n",
    "#     ...\n",
    "#     5 -> (type: int, value: 6)\n",
    "\n",
    "# arr1 = 1|2|3|2|3\n",
    "    \n",
    "# lst2:\n",
    "#     0 -> (type:string, value: 'string')\n",
    "#     1 -> (type:string, value: 'another string')\n",
    "#     2 -> (type:string, value: 'yet another')\n",
    "    \n",
    "# etc."
   ]
  },
  {
   "cell_type": "code",
   "execution_count": 22,
   "metadata": {},
   "outputs": [],
   "source": [
    "import numpy as np"
   ]
  },
  {
   "cell_type": "code",
   "execution_count": 24,
   "metadata": {},
   "outputs": [
    {
     "name": "stdout",
     "output_type": "stream",
     "text": [
      "[[0.10984685 0.26688918 0.32883169 0.51231315]\n",
      " [0.53410314 0.36449113 0.21651475 0.68929607]\n",
      " [0.99985949 0.38129149 0.9594366  0.86186655]\n",
      " [0.60919887 0.3511767  0.3037283  0.72194696]\n",
      " [0.46047714 0.31742554 0.58570295 0.93396298]\n",
      " [0.25288955 0.30621547 0.98584017 0.84730722]\n",
      " [0.19070735 0.31880166 0.06316382 0.75602694]\n",
      " [0.12171145 0.1456546  0.47157091 0.91642207]\n",
      " [0.81101242 0.57966451 0.17701395 0.21728656]\n",
      " [0.61811141 0.40894771 0.16825102 0.90377269]]\n",
      "<class 'numpy.ndarray'>\n"
     ]
    }
   ],
   "source": [
    "a = np.random.random((10,4))\n",
    "print(a)\n",
    "print(type(a))"
   ]
  },
  {
   "cell_type": "code",
   "execution_count": 26,
   "metadata": {},
   "outputs": [
    {
     "name": "stdout",
     "output_type": "stream",
     "text": [
      "(10, 4)\n",
      "40\n"
     ]
    }
   ],
   "source": [
    "print(a.shape)\n",
    "print(a.size)"
   ]
  },
  {
   "cell_type": "code",
   "execution_count": 29,
   "metadata": {},
   "outputs": [
    {
     "name": "stdout",
     "output_type": "stream",
     "text": [
      "[[[0.23053075 0.05940174 0.4094255 ]\n",
      "  [0.05869933 0.55887194 0.5420613 ]]\n",
      "\n",
      " [[0.3122423  0.16533808 0.32692855]\n",
      "  [0.15341117 0.26954398 0.43537049]]\n",
      "\n",
      " [[0.09008593 0.79282408 0.86734226]\n",
      "  [0.42669402 0.13739125 0.34977334]]\n",
      "\n",
      " [[0.63013572 0.18558752 0.52355376]\n",
      "  [0.17542181 0.34691074 0.9779335 ]]\n",
      "\n",
      " [[0.89225961 0.01482495 0.30723407]\n",
      "  [0.07010307 0.37831514 0.41922316]]]\n"
     ]
    }
   ],
   "source": [
    "b = np.random.random((5,2,3))\n",
    "print(b)"
   ]
  },
  {
   "cell_type": "code",
   "execution_count": 30,
   "metadata": {},
   "outputs": [
    {
     "name": "stdout",
     "output_type": "stream",
     "text": [
      "[[[[7.76484065e-01 8.06243977e-01 6.11699264e-01 6.06963897e-01\n",
      "    6.53628282e-01]\n",
      "   [9.17214198e-01 7.29525427e-01 2.64113298e-01 2.73031057e-01\n",
      "    8.21541320e-01]\n",
      "   [5.28836505e-01 9.56728328e-01 1.57422955e-01 3.26409020e-01\n",
      "    6.54124853e-01]\n",
      "   [9.53300363e-01 2.84095093e-02 6.80023994e-01 3.49725579e-01\n",
      "    9.99604584e-01]]\n",
      "\n",
      "  [[1.02313869e-01 2.18532147e-01 7.91475065e-01 3.15770130e-01\n",
      "    9.46924987e-01]\n",
      "   [4.80086175e-01 9.31657982e-01 2.80309979e-01 7.04888241e-01\n",
      "    4.42810829e-02]\n",
      "   [8.79027887e-01 7.18025577e-01 5.38572275e-01 7.19867968e-01\n",
      "    5.77941377e-01]\n",
      "   [7.41607446e-01 5.15231091e-01 4.72058890e-04 5.55584004e-01\n",
      "    1.65361539e-01]]\n",
      "\n",
      "  [[3.97045562e-01 9.40529485e-01 6.05760829e-01 9.20559215e-01\n",
      "    7.90986844e-03]\n",
      "   [3.95994444e-01 1.09705671e-01 3.78260127e-02 1.91712386e-01\n",
      "    3.58147225e-01]\n",
      "   [9.12081295e-01 9.33325399e-01 2.08026476e-02 5.69097696e-01\n",
      "    5.55475984e-01]\n",
      "   [5.82003956e-02 4.75850290e-01 4.60760513e-01 7.10654996e-02\n",
      "    6.89782857e-01]]]\n",
      "\n",
      "\n",
      " [[[7.74137089e-01 8.50788290e-02 3.51401278e-01 6.62595791e-01\n",
      "    2.27414691e-01]\n",
      "   [9.50433951e-02 4.24388403e-01 5.16155591e-01 4.05359919e-01\n",
      "    7.72114008e-01]\n",
      "   [4.88373853e-01 8.08820161e-01 6.75320960e-01 2.44301636e-02\n",
      "    9.34834015e-01]\n",
      "   [7.31211409e-01 7.18603483e-01 8.19916546e-01 9.93478883e-01\n",
      "    8.98252118e-01]]\n",
      "\n",
      "  [[5.66865023e-02 2.05854997e-01 1.94895865e-01 7.19966708e-01\n",
      "    1.11731906e-01]\n",
      "   [7.70994199e-01 1.13732164e-01 3.54834998e-01 7.04972675e-01\n",
      "    4.20146952e-01]\n",
      "   [2.36473700e-01 9.70848689e-01 5.01171663e-01 7.55907624e-01\n",
      "    2.89142159e-02]\n",
      "   [1.93017295e-02 4.99981681e-01 3.24932864e-01 8.64580088e-02\n",
      "    6.90518962e-01]]\n",
      "\n",
      "  [[2.97109971e-01 2.20033780e-01 2.15782440e-01 5.33263084e-01\n",
      "    3.14835956e-01]\n",
      "   [7.11277257e-01 6.28248976e-01 7.81630751e-01 1.54221116e-01\n",
      "    5.18726061e-01]\n",
      "   [3.21479394e-01 7.12454671e-01 5.74889915e-01 2.68068408e-01\n",
      "    7.02281098e-01]\n",
      "   [8.41363585e-02 3.20408671e-01 2.73328509e-01 5.67483409e-01\n",
      "    9.05193312e-01]]]]\n"
     ]
    }
   ],
   "source": [
    "c = np.random.random((2,3,4,5))\n",
    "print(c)"
   ]
  },
  {
   "cell_type": "code",
   "execution_count": 34,
   "metadata": {},
   "outputs": [
    {
     "name": "stdout",
     "output_type": "stream",
     "text": [
      "0.9051933119584123\n"
     ]
    }
   ],
   "source": [
    "print(c[1,2,3,4])"
   ]
  },
  {
   "cell_type": "code",
   "execution_count": 38,
   "metadata": {},
   "outputs": [
    {
     "name": "stdout",
     "output_type": "stream",
     "text": [
      "[[0.10984685 0.26688918 0.32883169 0.51231315]\n",
      " [0.53410314 0.36449113 0.21651475 0.68929607]\n",
      " [0.99985949 0.38129149 0.9594366  0.86186655]\n",
      " [0.60919887 0.3511767  0.3037283  0.72194696]\n",
      " [0.46047714 0.31742554 0.58570295 0.93396298]\n",
      " [0.25288955 0.30621547 0.98584017 0.84730722]\n",
      " [0.19070735 0.31880166 0.06316382 0.75602694]\n",
      " [0.12171145 0.1456546  0.47157091 0.91642207]\n",
      " [0.81101242 0.57966451 0.17701395 0.21728656]\n",
      " [0.61811141 0.40894771 0.16825102 0.90377269]]\n",
      "\n",
      "[0.10984685 0.26688918 0.32883169 0.51231315]\n"
     ]
    }
   ],
   "source": [
    "# First row of matrix a\n",
    "print(a)\n",
    "print()\n",
    "print(a[0])"
   ]
  },
  {
   "cell_type": "code",
   "execution_count": 46,
   "metadata": {},
   "outputs": [
    {
     "name": "stdout",
     "output_type": "stream",
     "text": [
      "[0.10984685 0.53410314 0.99985949 0.60919887 0.46047714 0.25288955\n",
      " 0.19070735 0.12171145 0.81101242 0.61811141]\n"
     ]
    }
   ],
   "source": [
    "# First column of matrix a\n",
    "print(a[:,0])\n",
    "#print(np.vstack(a[:,0]))"
   ]
  },
  {
   "cell_type": "code",
   "execution_count": 47,
   "metadata": {},
   "outputs": [
    {
     "name": "stdout",
     "output_type": "stream",
     "text": [
      "[0.1098468525523425, 0.5341031410492059, 0.9998594911964263, 0.6091988691554574, 0.46047714304150966, 0.25288955000979985, 0.19070734819378599, 0.12171145418066343, 0.8110124167776445, 0.6181114073721418]\n"
     ]
    }
   ],
   "source": [
    "print(list(a[:,0]))"
   ]
  },
  {
   "cell_type": "code",
   "execution_count": 41,
   "metadata": {},
   "outputs": [
    {
     "name": "stdout",
     "output_type": "stream",
     "text": [
      "0.5857029549897795\n"
     ]
    }
   ],
   "source": [
    "# Value in the fifth row and third column of matrix a\n",
    "print(a[4,2])"
   ]
  },
  {
   "cell_type": "code",
   "execution_count": 50,
   "metadata": {},
   "outputs": [
    {
     "data": {
      "text/plain": [
       "0.78621408"
      ]
     },
     "execution_count": 50,
     "metadata": {},
     "output_type": "execute_result"
    }
   ],
   "source": [
    "# list equivalent\n",
    "xlist = [[0.75069265, 0.53100122, 0.48637696, 0.20811268],\n",
    " [0.28855746, 0.86233589, 0.82170344, 0.64340505],\n",
    " [0.66165029 ,0.66529042 ,0.82118104 ,0.33245214],\n",
    " [0.23842237, 0.99227012, 0.70958494, 0.78773342],\n",
    " [0.59956754 ,0.72311601 ,0.78621408 ,0.48428124],\n",
    " [0.77134511, 0.90509481, 0.39564717, 0.70004292],\n",
    " [0.6590291  ,0.28677295 ,0.92953274 ,0.43896178],\n",
    " [0.22973736, 0.96647811, 0.51706048, 0.11653039],\n",
    " [0.27601849 ,0.7595283  ,0.80449362 ,0.42240349],\n",
    " [0.61892953, 0.31949189, 0.83564542, 0.43967919]]\n",
    "#third value in fifth sublist\n",
    "xlist[4][2]\n",
    "#xlist[4,2]\n"
   ]
  },
  {
   "cell_type": "code",
   "execution_count": 51,
   "metadata": {},
   "outputs": [
    {
     "name": "stdout",
     "output_type": "stream",
     "text": [
      "[array([0.10984685, 0.26688918, 0.32883169, 0.51231315]), array([0.53410314, 0.36449113, 0.21651475, 0.68929607]), array([0.99985949, 0.38129149, 0.9594366 , 0.86186655]), array([0.60919887, 0.3511767 , 0.3037283 , 0.72194696]), array([0.46047714, 0.31742554, 0.58570295, 0.93396298]), array([0.25288955, 0.30621547, 0.98584017, 0.84730722]), array([0.19070735, 0.31880166, 0.06316382, 0.75602694]), array([0.12171145, 0.1456546 , 0.47157091, 0.91642207]), array([0.81101242, 0.57966451, 0.17701395, 0.21728656]), array([0.61811141, 0.40894771, 0.16825102, 0.90377269])]\n"
     ]
    }
   ],
   "source": [
    "ylist = list(a)\n",
    "print(ylist)"
   ]
  },
  {
   "cell_type": "code",
   "execution_count": 52,
   "metadata": {},
   "outputs": [
    {
     "name": "stdout",
     "output_type": "stream",
     "text": [
      "[[0.1098468525523425, 0.26688918213055235, 0.3288316903306522, 0.51231314914058], [0.5341031410492059, 0.36449113175812053, 0.21651475015117427, 0.6892960683480391], [0.9998594911964263, 0.38129149167427623, 0.9594366017509608, 0.8618665517178051], [0.6091988691554574, 0.35117670484590957, 0.3037283000163944, 0.7219469630147531], [0.46047714304150966, 0.31742554281120205, 0.5857029549897795, 0.9339629849905923], [0.25288955000979985, 0.30621546752270123, 0.9858401697944247, 0.8473072220186029], [0.19070734819378599, 0.3188016600857344, 0.06316382177255919, 0.7560269364833399], [0.12171145418066343, 0.14565459512052603, 0.47157091129049, 0.91642206763607], [0.8110124167776445, 0.5796645107142258, 0.17701395120178653, 0.21728655525992757], [0.6181114073721418, 0.40894771245013795, 0.16825101785403207, 0.9037726908161962]]\n"
     ]
    }
   ],
   "source": [
    "ylist = [[x for x in row] for row in a]\n",
    "print(ylist)"
   ]
  },
  {
   "cell_type": "code",
   "execution_count": 53,
   "metadata": {},
   "outputs": [
    {
     "name": "stdout",
     "output_type": "stream",
     "text": [
      "[[[7.76484065e-01 8.06243977e-01 6.11699264e-01 6.06963897e-01\n",
      "   6.53628282e-01]\n",
      "  [9.17214198e-01 7.29525427e-01 2.64113298e-01 2.73031057e-01\n",
      "   8.21541320e-01]\n",
      "  [5.28836505e-01 9.56728328e-01 1.57422955e-01 3.26409020e-01\n",
      "   6.54124853e-01]\n",
      "  [9.53300363e-01 2.84095093e-02 6.80023994e-01 3.49725579e-01\n",
      "   9.99604584e-01]]\n",
      "\n",
      " [[1.02313869e-01 2.18532147e-01 7.91475065e-01 3.15770130e-01\n",
      "   9.46924987e-01]\n",
      "  [4.80086175e-01 9.31657982e-01 2.80309979e-01 7.04888241e-01\n",
      "   4.42810829e-02]\n",
      "  [8.79027887e-01 7.18025577e-01 5.38572275e-01 7.19867968e-01\n",
      "   5.77941377e-01]\n",
      "  [7.41607446e-01 5.15231091e-01 4.72058890e-04 5.55584004e-01\n",
      "   1.65361539e-01]]\n",
      "\n",
      " [[3.97045562e-01 9.40529485e-01 6.05760829e-01 9.20559215e-01\n",
      "   7.90986844e-03]\n",
      "  [3.95994444e-01 1.09705671e-01 3.78260127e-02 1.91712386e-01\n",
      "   3.58147225e-01]\n",
      "  [9.12081295e-01 9.33325399e-01 2.08026476e-02 5.69097696e-01\n",
      "   5.55475984e-01]\n",
      "  [5.82003956e-02 4.75850290e-01 4.60760513e-01 7.10654996e-02\n",
      "   6.89782857e-01]]]\n"
     ]
    }
   ],
   "source": [
    "# First group of array c\n",
    "print(c[0])"
   ]
  },
  {
   "cell_type": "code",
   "execution_count": 54,
   "metadata": {},
   "outputs": [
    {
     "name": "stdout",
     "output_type": "stream",
     "text": [
      "[[1.02313869e-01 2.18532147e-01 7.91475065e-01 3.15770130e-01\n",
      "  9.46924987e-01]\n",
      " [4.80086175e-01 9.31657982e-01 2.80309979e-01 7.04888241e-01\n",
      "  4.42810829e-02]\n",
      " [8.79027887e-01 7.18025577e-01 5.38572275e-01 7.19867968e-01\n",
      "  5.77941377e-01]\n",
      " [7.41607446e-01 5.15231091e-01 4.72058890e-04 5.55584004e-01\n",
      "  1.65361539e-01]]\n"
     ]
    }
   ],
   "source": [
    "# Second subgroup of the first group\n",
    "print(c[0,1])"
   ]
  },
  {
   "cell_type": "code",
   "execution_count": 60,
   "metadata": {},
   "outputs": [
    {
     "name": "stdout",
     "output_type": "stream",
     "text": [
      "[[[0.77648407 0.80624398 0.61169926 0.6069639  0.65362828]\n",
      "  [0.9172142  0.72952543 0.2641133  0.27303106 0.82154132]\n",
      "  [0.52883651 0.95672833 0.15742295 0.32640902 0.65412485]\n",
      "  [0.95330036 0.02840951 0.68002399 0.34972558 0.99960458]]\n",
      "\n",
      " [[0.77413709 0.08507883 0.35140128 0.66259579 0.22741469]\n",
      "  [0.0950434  0.4243884  0.51615559 0.40535992 0.77211401]\n",
      "  [0.48837385 0.80882016 0.67532096 0.02443016 0.93483401]\n",
      "  [0.73121141 0.71860348 0.81991655 0.99347888 0.89825212]]]\n"
     ]
    }
   ],
   "source": [
    "# Fourth column of the second subgroup of the first group\n",
    "# print(np.vstack(c[0,1,:,3]))\n",
    "# print(c[0,1,2])\n",
    "# print(list(c[0,1,:,3]))\n",
    "\n",
    "weeknr = 0\n",
    "print(c[:,weeknr])\n",
    "\n",
    "\n"
   ]
  },
  {
   "cell_type": "code",
   "execution_count": 66,
   "metadata": {},
   "outputs": [
    {
     "name": "stdout",
     "output_type": "stream",
     "text": [
      "[[0.67181739 0.6625958 ]\n",
      " [0.26628257 0.1999631 ]]\n",
      "<class 'numpy.float64'>\n"
     ]
    }
   ],
   "source": [
    "newarr = np.array([[0.6718173948698819, 0.662595795992], [0.2662825704884635, 0.19996310250953375]])\n",
    "print(newarr)\n",
    "#print(type(newarr[0,1]))"
   ]
  },
  {
   "cell_type": "code",
   "execution_count": null,
   "metadata": {},
   "outputs": [],
   "source": []
  },
  {
   "cell_type": "code",
   "execution_count": 67,
   "metadata": {},
   "outputs": [
    {
     "name": "stdout",
     "output_type": "stream",
     "text": [
      "[[1 2 3]\n",
      " [4 5 6]\n",
      " [7 8 9]]\n"
     ]
    }
   ],
   "source": [
    "lst_lst = [[1,2,3],[4,5,6],[7,8,9]]\n",
    "d = np.array(lst_lst)\n",
    "print(d)"
   ]
  },
  {
   "cell_type": "code",
   "execution_count": 68,
   "metadata": {},
   "outputs": [
    {
     "name": "stdout",
     "output_type": "stream",
     "text": [
      "[[0.10984685 0.26688918 0.32883169 0.51231315]\n",
      " [0.53410314 0.36449113 0.21651475 0.68929607]\n",
      " [0.99985949 0.38129149 0.9594366  0.86186655]\n",
      " [0.60919887 0.3511767  0.3037283  0.72194696]\n",
      " [0.46047714 0.31742554 0.58570295 0.93396298]\n",
      " [0.25288955 0.30621547 0.98584017 0.84730722]\n",
      " [0.19070735 0.31880166 0.06316382 0.75602694]\n",
      " [0.12171145 0.1456546  0.47157091 0.91642207]\n",
      " [0.81101242 0.57966451 0.17701395 0.21728656]\n",
      " [0.61811141 0.40894771 0.16825102 0.90377269]]\n"
     ]
    }
   ],
   "source": [
    "print(a)"
   ]
  },
  {
   "cell_type": "code",
   "execution_count": 72,
   "metadata": {},
   "outputs": [
    {
     "name": "stdout",
     "output_type": "stream",
     "text": [
      "19.768731031220522\n"
     ]
    }
   ],
   "source": [
    "# Sum of all elements in matrix a\n",
    "print(np.sum(a))"
   ]
  },
  {
   "cell_type": "code",
   "execution_count": 71,
   "metadata": {},
   "outputs": [
    {
     "name": "stdout",
     "output_type": "stream",
     "text": [
      "[4.70791767 3.440558   4.26005417 7.36020119]\n"
     ]
    }
   ],
   "source": [
    "# Sum of each column in matrix a\n",
    "print(np.sum(a, axis=0))"
   ]
  },
  {
   "cell_type": "code",
   "execution_count": 73,
   "metadata": {},
   "outputs": [
    {
     "name": "stdout",
     "output_type": "stream",
     "text": [
      "[1.21788087 1.80440509 3.20245414 1.98605084 2.29756863 2.39225241\n",
      " 1.32869977 1.65535903 1.78497743 2.09908283]\n"
     ]
    }
   ],
   "source": [
    "# Sum of each row in matrix a\n",
    "print(np.sum(a, axis=1))"
   ]
  },
  {
   "cell_type": "code",
   "execution_count": 74,
   "metadata": {},
   "outputs": [
    {
     "name": "stdout",
     "output_type": "stream",
     "text": [
      "[[[0.23053075 0.05940174 0.4094255 ]\n",
      "  [0.05869933 0.55887194 0.5420613 ]]\n",
      "\n",
      " [[0.3122423  0.16533808 0.32692855]\n",
      "  [0.15341117 0.26954398 0.43537049]]\n",
      "\n",
      " [[0.09008593 0.79282408 0.86734226]\n",
      "  [0.42669402 0.13739125 0.34977334]]\n",
      "\n",
      " [[0.63013572 0.18558752 0.52355376]\n",
      "  [0.17542181 0.34691074 0.9779335 ]]\n",
      "\n",
      " [[0.89225961 0.01482495 0.30723407]\n",
      "  [0.07010307 0.37831514 0.41922316]]]\n"
     ]
    }
   ],
   "source": [
    "print(b)"
   ]
  },
  {
   "cell_type": "code",
   "execution_count": 75,
   "metadata": {},
   "outputs": [
    {
     "name": "stdout",
     "output_type": "stream",
     "text": [
      "[[[0.23053075 0.05940174 0.4094255 ]\n",
      "  [0.05869933 0.55887194 0.5420613 ]]\n",
      "\n",
      " [[0.3122423  0.16533808 0.32692855]\n",
      "  [0.15341117 0.26954398 0.43537049]]]\n"
     ]
    },
    {
     "data": {
      "text/plain": [
       "3.521825135786238"
      ]
     },
     "execution_count": 75,
     "metadata": {},
     "output_type": "execute_result"
    }
   ],
   "source": [
    "# Sum of all the elements in the first two groups of array b\n",
    "print(b[:2])\n",
    "np.sum(b[:2])"
   ]
  },
  {
   "cell_type": "code",
   "execution_count": 78,
   "metadata": {},
   "outputs": [
    {
     "name": "stdout",
     "output_type": "stream",
     "text": [
      "0.49421827578051303\n"
     ]
    },
    {
     "data": {
      "text/plain": [
       "0.49421827578051303"
      ]
     },
     "execution_count": 78,
     "metadata": {},
     "output_type": "execute_result"
    }
   ],
   "source": [
    "# Mean of all elements in matrix a\n",
    "print(np.mean(a))\n",
    "#?a\n",
    "#a. + Tab"
   ]
  },
  {
   "cell_type": "code",
   "execution_count": 79,
   "metadata": {},
   "outputs": [
    {
     "name": "stdout",
     "output_type": "stream",
     "text": [
      "[0.47079177 0.3440558  0.42600542 0.73602012]\n"
     ]
    }
   ],
   "source": [
    "# Mean of each column in matrix a\n",
    "print(np.mean(a, axis=0))"
   ]
  },
  {
   "cell_type": "code",
   "execution_count": 80,
   "metadata": {},
   "outputs": [
    {
     "name": "stdout",
     "output_type": "stream",
     "text": [
      "[0.30447022 0.45110127 0.80061353 0.49651271 0.57439216 0.5980631\n",
      " 0.33217494 0.41383976 0.44624436 0.52477071]\n"
     ]
    }
   ],
   "source": [
    "# Mean of each row in matrix a\n",
    "print(np.mean(a, axis=1))"
   ]
  },
  {
   "cell_type": "code",
   "execution_count": 81,
   "metadata": {},
   "outputs": [
    {
     "data": {
      "text/plain": [
       "0.2934854279821865"
      ]
     },
     "execution_count": 81,
     "metadata": {},
     "output_type": "execute_result"
    }
   ],
   "source": [
    "# Mean of all the elements in the first two groups of array b\n",
    "np.mean(b[:2])"
   ]
  },
  {
   "cell_type": "code",
   "execution_count": 82,
   "metadata": {},
   "outputs": [
    {
     "name": "stdout",
     "output_type": "stream",
     "text": [
      "[[0.77648407 0.80624398 0.61169926 0.6069639  0.65362828]\n",
      " [0.9172142  0.72952543 0.2641133  0.27303106 0.82154132]\n",
      " [0.52883651 0.95672833 0.15742295 0.32640902 0.65412485]\n",
      " [0.95330036 0.02840951 0.68002399 0.34972558 0.99960458]]\n"
     ]
    }
   ],
   "source": [
    "x = c[0,0]\n",
    "print(x)"
   ]
  },
  {
   "cell_type": "code",
   "execution_count": 83,
   "metadata": {},
   "outputs": [
    {
     "name": "stdout",
     "output_type": "stream",
     "text": [
      "[[1.02313869e-01 2.18532147e-01 7.91475065e-01 3.15770130e-01\n",
      "  9.46924987e-01]\n",
      " [4.80086175e-01 9.31657982e-01 2.80309979e-01 7.04888241e-01\n",
      "  4.42810829e-02]\n",
      " [8.79027887e-01 7.18025577e-01 5.38572275e-01 7.19867968e-01\n",
      "  5.77941377e-01]\n",
      " [7.41607446e-01 5.15231091e-01 4.72058890e-04 5.55584004e-01\n",
      "  1.65361539e-01]]\n"
     ]
    }
   ],
   "source": [
    "y = c[0,1]\n",
    "print(y)"
   ]
  },
  {
   "cell_type": "code",
   "execution_count": 86,
   "metadata": {},
   "outputs": [
    {
     "name": "stdout",
     "output_type": "stream",
     "text": [
      "[[0.87879793 1.02477612 1.40317433 0.92273403 1.60055327]\n",
      " [1.39730037 1.66118341 0.54442328 0.9779193  0.8658224 ]\n",
      " [1.40786439 1.67475391 0.69599523 1.04627699 1.23206623]\n",
      " [1.69490781 0.5436406  0.68049605 0.90530958 1.16496612]]\n"
     ]
    }
   ],
   "source": [
    "# Add elements of x and y together\n",
    "print(np.add(x, y))"
   ]
  },
  {
   "cell_type": "code",
   "execution_count": 87,
   "metadata": {},
   "outputs": [
    {
     "data": {
      "text/plain": [
       "array([[7.76484065, 8.06243977, 6.11699264, 6.06963897, 6.53628282],\n",
       "       [9.17214198, 7.29525427, 2.64113298, 2.73031057, 8.2154132 ],\n",
       "       [5.28836505, 9.56728328, 1.57422955, 3.2640902 , 6.54124853],\n",
       "       [9.53300363, 0.28409509, 6.80023994, 3.49725579, 9.99604584]])"
      ]
     },
     "execution_count": 87,
     "metadata": {},
     "output_type": "execute_result"
    }
   ],
   "source": [
    "x*10"
   ]
  },
  {
   "cell_type": "code",
   "execution_count": 88,
   "metadata": {},
   "outputs": [
    {
     "name": "stdout",
     "output_type": "stream",
     "text": [
      "[[-0.6741702  -0.58771183  0.1797758  -0.29119377  0.29329671]\n",
      " [-0.43712802  0.20213255  0.01619668  0.43185718 -0.77726024]\n",
      " [ 0.35019138 -0.23870275  0.38114932  0.39345895 -0.07618348]\n",
      " [-0.21169292  0.48682158 -0.67955193  0.20585842 -0.83424304]]\n"
     ]
    }
   ],
   "source": [
    "# Subtract elements of x from elements of y\n",
    "print(np.subtract(y, x))"
   ]
  },
  {
   "cell_type": "code",
   "execution_count": 89,
   "metadata": {},
   "outputs": [
    {
     "name": "stdout",
     "output_type": "stream",
     "text": [
      "[[7.94450886e-02 1.76190227e-01 4.84144715e-01 1.91661069e-01\n",
      "  6.18936952e-01]\n",
      " [4.40341856e-01 6.79668188e-01 7.40335931e-02 1.92456381e-01\n",
      "  3.63787393e-02]\n",
      " [4.64862036e-01 6.86955410e-01 8.47836388e-02 2.34971398e-01\n",
      "  3.78045818e-01]\n",
      " [7.06974647e-01 1.46374625e-02 3.21011372e-04 1.94301937e-01\n",
      "  1.65296153e-01]]\n"
     ]
    }
   ],
   "source": [
    "# Multiply elements of x and y together\n",
    "print(np.multiply(x, y))"
   ]
  },
  {
   "cell_type": "code",
   "execution_count": 94,
   "metadata": {},
   "outputs": [
    {
     "name": "stdout",
     "output_type": "stream",
     "text": [
      "[[0.77648407 0.80624398 0.61169926 0.6069639  0.65362828]\n",
      " [0.9172142  0.72952543 0.2641133  0.27303106 0.82154132]\n",
      " [0.52883651 0.95672833 0.15742295 0.32640902 0.65412485]\n",
      " [0.95330036 0.02840951 0.68002399 0.34972558 0.99960458]]\n",
      "[0.77413709 0.08507883 0.35140128 0.66259579 0.22741469]\n",
      "[[ 1.00303173  9.47643481  1.74074285  0.91603947  2.87416912]\n",
      " [ 1.18482141  8.57469991  0.75160028  0.41206277  3.61252528]\n",
      " [ 0.6831303  11.24519859  0.44798629  0.49262163  2.87635267]\n",
      " [ 1.23143611  0.33391984  1.93517792  0.52781135  4.39551455]]\n"
     ]
    }
   ],
   "source": [
    "# Divide elements of y by elements of x\n",
    "print(x)\n",
    "print(c[1,0,0])\n",
    "print(np.divide(x, c[1,0,0]))"
   ]
  },
  {
   "cell_type": "code",
   "execution_count": 95,
   "metadata": {},
   "outputs": [
    {
     "name": "stdout",
     "output_type": "stream",
     "text": [
      "[[1 2 3]\n",
      " [4 5 6]\n",
      " [7 8 9]]\n",
      "[[False  True False]\n",
      " [ True False  True]\n",
      " [False  True False]]\n"
     ]
    }
   ],
   "source": [
    "print(d)\n",
    "print(d%2==0)"
   ]
  },
  {
   "cell_type": "code",
   "execution_count": null,
   "metadata": {},
   "outputs": [],
   "source": []
  },
  {
   "cell_type": "code",
   "execution_count": null,
   "metadata": {},
   "outputs": [],
   "source": []
  },
  {
   "cell_type": "code",
   "execution_count": null,
   "metadata": {},
   "outputs": [],
   "source": []
  },
  {
   "cell_type": "code",
   "execution_count": null,
   "metadata": {},
   "outputs": [],
   "source": [
    "%%time\n",
    "for i in range(100000):\n",
    "    z = np.multiply(x, y)"
   ]
  },
  {
   "cell_type": "code",
   "execution_count": null,
   "metadata": {},
   "outputs": [],
   "source": [
    "import random\n",
    "x_list = [[random.random() for j in range(5)] for i in range(4)]\n",
    "y_list = [[random.random() for j in range(5)] for i in range(4)]"
   ]
  },
  {
   "cell_type": "code",
   "execution_count": null,
   "metadata": {},
   "outputs": [],
   "source": [
    "x_list"
   ]
  },
  {
   "cell_type": "code",
   "execution_count": null,
   "metadata": {},
   "outputs": [],
   "source": [
    "%%time\n",
    "for i in range(100000):\n",
    "    z = []\n",
    "    for i in range(4):\n",
    "        innerlist = []\n",
    "        for j in range(5):\n",
    "            innerlist.append(x_list[i][j]*y_list[i][j])\n",
    "        z.append(innerlist)\n",
    "\n",
    "#print(z)\n",
    "    "
   ]
  },
  {
   "cell_type": "code",
   "execution_count": null,
   "metadata": {},
   "outputs": [],
   "source": [
    "%%time\n",
    "for i in range(100):\n",
    "    x_new = [j for j in range(1000)]\n",
    "    "
   ]
  },
  {
   "cell_type": "code",
   "execution_count": null,
   "metadata": {},
   "outputs": [],
   "source": [
    "%%time\n",
    "for i in range(100):\n",
    "    x = []\n",
    "    for j in range(1000):\n",
    "        x.append(j)\n",
    "    \n",
    "#print(x)"
   ]
  },
  {
   "cell_type": "code",
   "execution_count": null,
   "metadata": {},
   "outputs": [],
   "source": [
    "# Install a pip package in the current Jupyter kernel\n",
    "import sys\n",
    "!{sys.executable} -m pip3 install numpy"
   ]
  },
  {
   "cell_type": "code",
   "execution_count": null,
   "metadata": {},
   "outputs": [],
   "source": []
  }
 ],
 "metadata": {
  "kernelspec": {
   "display_name": "Python 3",
   "language": "python",
   "name": "python3"
  },
  "language_info": {
   "codemirror_mode": {
    "name": "ipython",
    "version": 3
   },
   "file_extension": ".py",
   "mimetype": "text/x-python",
   "name": "python",
   "nbconvert_exporter": "python",
   "pygments_lexer": "ipython3",
   "version": "3.8.3"
  }
 },
 "nbformat": 4,
 "nbformat_minor": 2
}
