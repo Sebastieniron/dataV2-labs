{
 "cells": [
  {
   "cell_type": "markdown",
   "metadata": {},
   "source": [
    "# API Scavenger Game\n",
    "\n",
    "## Challenge 1: Fork Languages\n",
    "\n",
    "You will find out how many programming languages are used among all the forks created from the main lab repo of your bootcamp."
   ]
  },
  {
   "cell_type": "code",
   "execution_count": 60,
   "metadata": {},
   "outputs": [],
   "source": [
    "# import libraries here\n",
    "import requests\n",
    "import pandas as pd\n",
    "import numpy as np\n",
    "username = 'sebastieniron'\n",
    "# %run './set_token.ipynb'\n",
    "token = ''"
   ]
  },
  {
   "cell_type": "markdown",
   "metadata": {},
   "source": [
    "Assuming the main lab repo is ironhack-datalabs/madrid-oct-2018, you will:\n",
    "\n",
    "#### 1. Obtain the full list of forks created from the main lab repo via Github API."
   ]
  },
  {
   "cell_type": "markdown",
   "metadata": {},
   "source": [
    "To list forks, we can use the GET method. As explained in the GitHub API documentation, we need to make the request to: GET /repos/:owner/:repo/forks."
   ]
  },
  {
   "cell_type": "code",
   "execution_count": 24,
   "metadata": {},
   "outputs": [],
   "source": [
    "# your code here\n",
    "request = requests.get('https://api.github.com/repos/jmolendijk/dataV2-labs/forks', auth=(username,token))\n"
   ]
  },
  {
   "cell_type": "markdown",
   "metadata": {},
   "source": [
    "#### 2. Loop the JSON response to find out the language attribute of each fork. Use an array to store the language attributes of each fork.\n",
    "Hint: Each language should appear only once in your array.\n",
    "Print the language array. It should be something like: [\"Python\", \"Jupyter Notebook\", \"HTML\"]"
   ]
  },
  {
   "cell_type": "code",
   "execution_count": 67,
   "metadata": {},
   "outputs": [
    {
     "data": {
      "text/plain": [
       "array(['Jupyter Notebook'], dtype=object)"
      ]
     },
     "execution_count": 67,
     "metadata": {},
     "output_type": "execute_result"
    }
   ],
   "source": [
    "# your code here\n",
    "\n",
    "result = request.json()\n",
    "data = pd.DataFrame(result)\n",
    "data.columns\n",
    "\n",
    "language_array = np.array(data['language'])\n",
    "language_array = np.unique(language_array)\n",
    "language_array\n"
   ]
  },
  {
   "cell_type": "markdown",
   "metadata": {},
   "source": [
    "## Challenge 2: Count Commits\n",
    "Count how many commits were made in the month of october of 2018.\n",
    "#### 1. Obtain all the commits made in October 2018 via API, which is a JSON array that contains multiple commit objects."
   ]
  },
  {
   "cell_type": "code",
   "execution_count": 78,
   "metadata": {},
   "outputs": [],
   "source": [
    "# your code here\n",
    "request2 = requests.get('https://api.github.com/repos/jmolendijk/dataV2-labs/commits?since=2020-07-01T00:00:00Z&until=2020-07-31T00:00:00Z', auth=(username,token))"
   ]
  },
  {
   "cell_type": "markdown",
   "metadata": {},
   "source": [
    "#### 2. Count how many commit objects are contained in the array."
   ]
  },
  {
   "cell_type": "code",
   "execution_count": 83,
   "metadata": {},
   "outputs": [
    {
     "data": {
      "text/html": [
       "<div>\n",
       "<style scoped>\n",
       "    .dataframe tbody tr th:only-of-type {\n",
       "        vertical-align: middle;\n",
       "    }\n",
       "\n",
       "    .dataframe tbody tr th {\n",
       "        vertical-align: top;\n",
       "    }\n",
       "\n",
       "    .dataframe thead th {\n",
       "        text-align: right;\n",
       "    }\n",
       "</style>\n",
       "<table border=\"1\" class=\"dataframe\">\n",
       "  <thead>\n",
       "    <tr style=\"text-align: right;\">\n",
       "      <th></th>\n",
       "      <th>sha</th>\n",
       "      <th>node_id</th>\n",
       "      <th>commit</th>\n",
       "      <th>url</th>\n",
       "      <th>html_url</th>\n",
       "      <th>comments_url</th>\n",
       "      <th>author</th>\n",
       "      <th>committer</th>\n",
       "      <th>parents</th>\n",
       "    </tr>\n",
       "  </thead>\n",
       "  <tbody>\n",
       "    <tr>\n",
       "      <th>0</th>\n",
       "      <td>80189cce124398781df93e115bf60755e3ed4d7b</td>\n",
       "      <td>MDY6Q29tbWl0MjgyNjY1MjcyOjgwMTg5Y2NlMTI0Mzk4Nz...</td>\n",
       "      <td>{'author': {'name': 'Jan Molendijk', 'email': ...</td>\n",
       "      <td>https://api.github.com/repos/jmolendijk/dataV2...</td>\n",
       "      <td>https://github.com/jmolendijk/dataV2-labs/comm...</td>\n",
       "      <td>https://api.github.com/repos/jmolendijk/dataV2...</td>\n",
       "      <td>{'login': 'jmolendijk', 'id': 54313084, 'node_...</td>\n",
       "      <td>{'login': 'jmolendijk', 'id': 54313084, 'node_...</td>\n",
       "      <td>[{'sha': '820a60e936eb06c25271744ac773d4179950...</td>\n",
       "    </tr>\n",
       "    <tr>\n",
       "      <th>1</th>\n",
       "      <td>820a60e936eb06c25271744ac773d41799501388</td>\n",
       "      <td>MDY6Q29tbWl0MjgyNjY1MjcyOjgyMGE2MGU5MzZlYjA2Yz...</td>\n",
       "      <td>{'author': {'name': 'jmolendijk', 'email': '54...</td>\n",
       "      <td>https://api.github.com/repos/jmolendijk/dataV2...</td>\n",
       "      <td>https://github.com/jmolendijk/dataV2-labs/comm...</td>\n",
       "      <td>https://api.github.com/repos/jmolendijk/dataV2...</td>\n",
       "      <td>{'login': 'jmolendijk', 'id': 54313084, 'node_...</td>\n",
       "      <td>{'login': 'web-flow', 'id': 19864447, 'node_id...</td>\n",
       "      <td>[]</td>\n",
       "    </tr>\n",
       "  </tbody>\n",
       "</table>\n",
       "</div>"
      ],
      "text/plain": [
       "                                        sha  \\\n",
       "0  80189cce124398781df93e115bf60755e3ed4d7b   \n",
       "1  820a60e936eb06c25271744ac773d41799501388   \n",
       "\n",
       "                                             node_id  \\\n",
       "0  MDY6Q29tbWl0MjgyNjY1MjcyOjgwMTg5Y2NlMTI0Mzk4Nz...   \n",
       "1  MDY6Q29tbWl0MjgyNjY1MjcyOjgyMGE2MGU5MzZlYjA2Yz...   \n",
       "\n",
       "                                              commit  \\\n",
       "0  {'author': {'name': 'Jan Molendijk', 'email': ...   \n",
       "1  {'author': {'name': 'jmolendijk', 'email': '54...   \n",
       "\n",
       "                                                 url  \\\n",
       "0  https://api.github.com/repos/jmolendijk/dataV2...   \n",
       "1  https://api.github.com/repos/jmolendijk/dataV2...   \n",
       "\n",
       "                                            html_url  \\\n",
       "0  https://github.com/jmolendijk/dataV2-labs/comm...   \n",
       "1  https://github.com/jmolendijk/dataV2-labs/comm...   \n",
       "\n",
       "                                        comments_url  \\\n",
       "0  https://api.github.com/repos/jmolendijk/dataV2...   \n",
       "1  https://api.github.com/repos/jmolendijk/dataV2...   \n",
       "\n",
       "                                              author  \\\n",
       "0  {'login': 'jmolendijk', 'id': 54313084, 'node_...   \n",
       "1  {'login': 'jmolendijk', 'id': 54313084, 'node_...   \n",
       "\n",
       "                                           committer  \\\n",
       "0  {'login': 'jmolendijk', 'id': 54313084, 'node_...   \n",
       "1  {'login': 'web-flow', 'id': 19864447, 'node_id...   \n",
       "\n",
       "                                             parents  \n",
       "0  [{'sha': '820a60e936eb06c25271744ac773d4179950...  \n",
       "1                                                 []  "
      ]
     },
     "execution_count": 83,
     "metadata": {},
     "output_type": "execute_result"
    }
   ],
   "source": [
    "# your code here\n",
    "result = request2.json()\n",
    "data = pd.DataFrame(result)\n",
    "col = ['commit']\n",
    "data\n",
    "\n",
    "# def flatten(data, col_list):\n",
    "#     for column in col_list:\n",
    "#         flattened = pd.DataFrame(dict(data[column])).transpose()\n",
    "#         columns = [str(col) for col in flattened.columns]\n",
    "#         flattened.columns = [column + '_' + colname for colname in columns]\n",
    "#         data = pd.concat([data, flattened], axis=1)\n",
    "#         data = data.drop(column, axis=1)\n",
    "#     return data\n",
    "\n",
    "# flatten(data,col)\n"
   ]
  },
  {
   "cell_type": "markdown",
   "metadata": {},
   "source": [
    "## Challenge 3: Hidden Cold Joke\n",
    "\n",
    "Using Python, call Github API to find out the cold joke contained in the 24 secret files in the following repo:\n",
    "\n",
    "https://github.com/ironhack-datalabs/scavenger\n",
    "\n",
    "The filenames of the secret files contain .scavengerhunt and they are scattered in different directories of this repo. The secret files are named from .0001.scavengerhunt to .0024.scavengerhunt. They are scattered randomly throughout this repo. You need to search for these files by calling the Github API, not searching the local files on your computer.\n",
    "\n",
    "#### 1. Find the secret files."
   ]
  },
  {
   "cell_type": "code",
   "execution_count": 97,
   "metadata": {},
   "outputs": [],
   "source": [
    "# your code here\n",
    "request3 = requests.get('https://api.github.com/repos/ironhack-datalabs/scavenger/contents', auth=(username,token))"
   ]
  },
  {
   "cell_type": "code",
   "execution_count": 100,
   "metadata": {},
   "outputs": [
    {
     "data": {
      "text/plain": [
       "[0     .gitignore\n",
       " 1          15024\n",
       " 2          15534\n",
       " 3          17020\n",
       " 4          30351\n",
       " 5          40303\n",
       " 6          44639\n",
       " 7          45525\n",
       " 8          47222\n",
       " 9          47830\n",
       " 10         49418\n",
       " 11         50896\n",
       " 12         55417\n",
       " 13         55685\n",
       " 14         60224\n",
       " 15         64880\n",
       " 16         66032\n",
       " 17         68848\n",
       " 18         70751\n",
       " 19         70985\n",
       " 20         88596\n",
       " 21         89046\n",
       " 22         89338\n",
       " 23         91701\n",
       " 24         97881\n",
       " 25         98750\n",
       " Name: path, dtype: object]"
      ]
     },
     "execution_count": 100,
     "metadata": {},
     "output_type": "execute_result"
    }
   ],
   "source": [
    "request3 = requests.get('https://api.github.com/repos/ironhack-datalabs/scavenger/contents', auth=(username,token))\n",
    "result = request3.json()\n",
    "data = pd.DataFrame(result)\n",
    "listpath = [data['path']]\n",
    "listpath"
   ]
  },
  {
   "cell_type": "markdown",
   "metadata": {},
   "source": [
    "#### 2.  Sort the filenames ascendingly."
   ]
  },
  {
   "cell_type": "code",
   "execution_count": null,
   "metadata": {},
   "outputs": [],
   "source": [
    "# your code here"
   ]
  },
  {
   "cell_type": "markdown",
   "metadata": {},
   "source": [
    "#### 3. Read the content of each secret files into an array of strings.\n",
    "Since the response is encoded, you will need to send the following information in the header of your request:\n",
    "````python\n",
    "headers = {'Accept': 'application/vnd.github.v3.raw'}\n",
    "````"
   ]
  },
  {
   "cell_type": "code",
   "execution_count": null,
   "metadata": {},
   "outputs": [],
   "source": [
    "# your code here"
   ]
  },
  {
   "cell_type": "markdown",
   "metadata": {},
   "source": [
    "#### 4. Concatenate the strings in the array separating each two with a whitespace."
   ]
  },
  {
   "cell_type": "code",
   "execution_count": null,
   "metadata": {},
   "outputs": [],
   "source": [
    "# your code here"
   ]
  },
  {
   "cell_type": "markdown",
   "metadata": {},
   "source": [
    "#### 5. Print out the joke."
   ]
  },
  {
   "cell_type": "code",
   "execution_count": null,
   "metadata": {},
   "outputs": [],
   "source": [
    "# your code here"
   ]
  }
 ],
 "metadata": {
  "kernelspec": {
   "display_name": "Python 3",
   "language": "python",
   "name": "python3"
  },
  "language_info": {
   "codemirror_mode": {
    "name": "ipython",
    "version": 3
   },
   "file_extension": ".py",
   "mimetype": "text/x-python",
   "name": "python",
   "nbconvert_exporter": "python",
   "pygments_lexer": "ipython3",
   "version": "3.8.3"
  }
 },
 "nbformat": 4,
 "nbformat_minor": 2
}
