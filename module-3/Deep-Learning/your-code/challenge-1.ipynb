{
 "cells": [
  {
   "cell_type": "markdown",
   "metadata": {},
   "source": [
    "# Challenge 1 - Tic Tac Toe\n",
    "\n",
    "In this lab you will perform deep learning analysis on a dataset of playing [Tic Tac Toe](https://en.wikipedia.org/wiki/Tic-tac-toe).\n",
    "\n",
    "There are 9 grids in Tic Tac Toe that are coded as the following picture shows:\n",
    "\n",
    "![Tic Tac Toe Grids](tttboard.jpg)\n",
    "\n",
    "In the first 9 columns of the dataset you can find which marks (`x` or `o`) exist in the grids. If there is no mark in a certain grid, it is labeled as `b`. The last column is `class` which tells you whether Player X (who always moves first in Tic Tac Toe) wins in this configuration. Note that when `class` has the value `False`, it means either Player O wins the game or it ends up as a draw."
   ]
  },
  {
   "cell_type": "markdown",
   "metadata": {},
   "source": [
    "Follow the steps suggested below to conduct a neural network analysis using Tensorflow and Keras. You will build a deep learning model to predict whether Player X wins the game or not.\n",
    "\n",
    "## Step 1: Data Engineering\n",
    "\n",
    "This dataset is almost in the ready-to-use state so you do not need to worry about missing values and so on. Still, some simple data engineering is needed.\n",
    "\n",
    "1. Read `tic-tac-toe.csv` into a dataframe.\n",
    "1. Inspect the dataset. Determine if the dataset is reliable by eyeballing the data.\n",
    "1. Convert the categorical values to numeric in all columns.\n",
    "1. Separate the inputs and output.\n",
    "1. Normalize the input data."
   ]
  },
  {
   "cell_type": "code",
   "execution_count": 2,
   "metadata": {},
   "outputs": [
    {
     "data": {
      "text/html": [
       "<div>\n",
       "<style scoped>\n",
       "    .dataframe tbody tr th:only-of-type {\n",
       "        vertical-align: middle;\n",
       "    }\n",
       "\n",
       "    .dataframe tbody tr th {\n",
       "        vertical-align: top;\n",
       "    }\n",
       "\n",
       "    .dataframe thead th {\n",
       "        text-align: right;\n",
       "    }\n",
       "</style>\n",
       "<table border=\"1\" class=\"dataframe\">\n",
       "  <thead>\n",
       "    <tr style=\"text-align: right;\">\n",
       "      <th></th>\n",
       "      <th>TL</th>\n",
       "      <th>TM</th>\n",
       "      <th>TR</th>\n",
       "      <th>ML</th>\n",
       "      <th>MM</th>\n",
       "      <th>MR</th>\n",
       "      <th>BL</th>\n",
       "      <th>BM</th>\n",
       "      <th>BR</th>\n",
       "      <th>class</th>\n",
       "    </tr>\n",
       "  </thead>\n",
       "  <tbody>\n",
       "    <tr>\n",
       "      <th>0</th>\n",
       "      <td>x</td>\n",
       "      <td>x</td>\n",
       "      <td>x</td>\n",
       "      <td>x</td>\n",
       "      <td>o</td>\n",
       "      <td>o</td>\n",
       "      <td>x</td>\n",
       "      <td>o</td>\n",
       "      <td>o</td>\n",
       "      <td>True</td>\n",
       "    </tr>\n",
       "    <tr>\n",
       "      <th>1</th>\n",
       "      <td>x</td>\n",
       "      <td>x</td>\n",
       "      <td>x</td>\n",
       "      <td>x</td>\n",
       "      <td>o</td>\n",
       "      <td>o</td>\n",
       "      <td>o</td>\n",
       "      <td>x</td>\n",
       "      <td>o</td>\n",
       "      <td>True</td>\n",
       "    </tr>\n",
       "    <tr>\n",
       "      <th>2</th>\n",
       "      <td>x</td>\n",
       "      <td>x</td>\n",
       "      <td>x</td>\n",
       "      <td>x</td>\n",
       "      <td>o</td>\n",
       "      <td>o</td>\n",
       "      <td>o</td>\n",
       "      <td>o</td>\n",
       "      <td>x</td>\n",
       "      <td>True</td>\n",
       "    </tr>\n",
       "    <tr>\n",
       "      <th>3</th>\n",
       "      <td>x</td>\n",
       "      <td>x</td>\n",
       "      <td>x</td>\n",
       "      <td>x</td>\n",
       "      <td>o</td>\n",
       "      <td>o</td>\n",
       "      <td>o</td>\n",
       "      <td>b</td>\n",
       "      <td>b</td>\n",
       "      <td>True</td>\n",
       "    </tr>\n",
       "    <tr>\n",
       "      <th>4</th>\n",
       "      <td>x</td>\n",
       "      <td>x</td>\n",
       "      <td>x</td>\n",
       "      <td>x</td>\n",
       "      <td>o</td>\n",
       "      <td>o</td>\n",
       "      <td>b</td>\n",
       "      <td>o</td>\n",
       "      <td>b</td>\n",
       "      <td>True</td>\n",
       "    </tr>\n",
       "    <tr>\n",
       "      <th>...</th>\n",
       "      <td>...</td>\n",
       "      <td>...</td>\n",
       "      <td>...</td>\n",
       "      <td>...</td>\n",
       "      <td>...</td>\n",
       "      <td>...</td>\n",
       "      <td>...</td>\n",
       "      <td>...</td>\n",
       "      <td>...</td>\n",
       "      <td>...</td>\n",
       "    </tr>\n",
       "    <tr>\n",
       "      <th>953</th>\n",
       "      <td>o</td>\n",
       "      <td>x</td>\n",
       "      <td>x</td>\n",
       "      <td>x</td>\n",
       "      <td>o</td>\n",
       "      <td>o</td>\n",
       "      <td>o</td>\n",
       "      <td>x</td>\n",
       "      <td>x</td>\n",
       "      <td>False</td>\n",
       "    </tr>\n",
       "    <tr>\n",
       "      <th>954</th>\n",
       "      <td>o</td>\n",
       "      <td>x</td>\n",
       "      <td>o</td>\n",
       "      <td>x</td>\n",
       "      <td>x</td>\n",
       "      <td>o</td>\n",
       "      <td>x</td>\n",
       "      <td>o</td>\n",
       "      <td>x</td>\n",
       "      <td>False</td>\n",
       "    </tr>\n",
       "    <tr>\n",
       "      <th>955</th>\n",
       "      <td>o</td>\n",
       "      <td>x</td>\n",
       "      <td>o</td>\n",
       "      <td>x</td>\n",
       "      <td>o</td>\n",
       "      <td>x</td>\n",
       "      <td>x</td>\n",
       "      <td>o</td>\n",
       "      <td>x</td>\n",
       "      <td>False</td>\n",
       "    </tr>\n",
       "    <tr>\n",
       "      <th>956</th>\n",
       "      <td>o</td>\n",
       "      <td>x</td>\n",
       "      <td>o</td>\n",
       "      <td>o</td>\n",
       "      <td>x</td>\n",
       "      <td>x</td>\n",
       "      <td>x</td>\n",
       "      <td>o</td>\n",
       "      <td>x</td>\n",
       "      <td>False</td>\n",
       "    </tr>\n",
       "    <tr>\n",
       "      <th>957</th>\n",
       "      <td>o</td>\n",
       "      <td>o</td>\n",
       "      <td>x</td>\n",
       "      <td>x</td>\n",
       "      <td>x</td>\n",
       "      <td>o</td>\n",
       "      <td>o</td>\n",
       "      <td>x</td>\n",
       "      <td>x</td>\n",
       "      <td>False</td>\n",
       "    </tr>\n",
       "  </tbody>\n",
       "</table>\n",
       "<p>958 rows × 10 columns</p>\n",
       "</div>"
      ],
      "text/plain": [
       "    TL TM TR ML MM MR BL BM BR  class\n",
       "0    x  x  x  x  o  o  x  o  o   True\n",
       "1    x  x  x  x  o  o  o  x  o   True\n",
       "2    x  x  x  x  o  o  o  o  x   True\n",
       "3    x  x  x  x  o  o  o  b  b   True\n",
       "4    x  x  x  x  o  o  b  o  b   True\n",
       "..  .. .. .. .. .. .. .. .. ..    ...\n",
       "953  o  x  x  x  o  o  o  x  x  False\n",
       "954  o  x  o  x  x  o  x  o  x  False\n",
       "955  o  x  o  x  o  x  x  o  x  False\n",
       "956  o  x  o  o  x  x  x  o  x  False\n",
       "957  o  o  x  x  x  o  o  x  x  False\n",
       "\n",
       "[958 rows x 10 columns]"
      ]
     },
     "execution_count": 2,
     "metadata": {},
     "output_type": "execute_result"
    }
   ],
   "source": [
    "# your code here\n",
    "import pandas as pd\n",
    "import numpy as np\n",
    "\n",
    "data = pd.read_csv('tic-tac-toe.csv')\n",
    "data"
   ]
  },
  {
   "cell_type": "code",
   "execution_count": 4,
   "metadata": {},
   "outputs": [
    {
     "data": {
      "text/plain": [
       "TL       int8\n",
       "TM       int8\n",
       "TR       int8\n",
       "ML       int8\n",
       "MM       int8\n",
       "MR       int8\n",
       "BL       int8\n",
       "BM       int8\n",
       "BR       int8\n",
       "class    int8\n",
       "dtype: object"
      ]
     },
     "execution_count": 4,
     "metadata": {},
     "output_type": "execute_result"
    }
   ],
   "source": [
    "data3 = data.apply(lambda col: pd.Categorical(col).codes)\n",
    "data3.dtypes"
   ]
  },
  {
   "cell_type": "code",
   "execution_count": 7,
   "metadata": {},
   "outputs": [],
   "source": [
    "data3output = data3['class']\n",
    "data3input = data3.drop(columns=['class'])"
   ]
  },
  {
   "cell_type": "code",
   "execution_count": 131,
   "metadata": {},
   "outputs": [],
   "source": [
    "# import sys\n",
    "# !{sys.executable} -m pip install tensorflow\n",
    "import tensorflow as tf\n",
    "\n",
    "normalize_input = tf.keras.utils.normalize(data3input)"
   ]
  },
  {
   "cell_type": "markdown",
   "metadata": {},
   "source": [
    "## Step 2: Build Neural Network\n",
    "\n",
    "To build the neural network, you can refer to your own codes you wrote while following the [Deep Learning with Python, TensorFlow, and Keras tutorial](https://www.youtube.com/watch?v=wQ8BIBpya2k) in the lesson. It's pretty similar to what you will be doing in this lab.\n",
    "\n",
    "1. Split the training and test data.\n",
    "1. Create a `Sequential` model.\n",
    "1. Add several layers to your model. Make sure you use ReLU as the activation function for the middle layers. Use Softmax for the output layer because each output has a single lable and all the label probabilities add up to 1.\n",
    "1. Compile the model using `adam` as the optimizer and `sparse_categorical_crossentropy` as the loss function. For metrics, use `accuracy` for now.\n",
    "1. Fit the training data.\n",
    "1. Evaluate your neural network model with the test data.\n",
    "1. Save your model as `tic-tac-toe.model`."
   ]
  },
  {
   "cell_type": "code",
   "execution_count": 121,
   "metadata": {},
   "outputs": [
    {
     "name": "stdout",
     "output_type": "stream",
     "text": [
      "Epoch 1/19\n",
      "WARNING:tensorflow:Layer flatten_39 is casting an input tensor from dtype float64 to the layer's dtype of float32, which is new behavior in TensorFlow 2.  The layer has dtype float32 because its dtype defaults to floatx.\n",
      "\n",
      "If you intended to run this layer in float32, you can safely ignore this warning. If in doubt, this warning is likely only an issue if you are porting a TensorFlow 1.X model to TensorFlow 2.\n",
      "\n",
      "To change all layers to have dtype float64 by default, call `tf.keras.backend.set_floatx('float64')`. To change just this layer, pass dtype='float64' to the layer constructor. If you are the author of this layer, you can disable autocasting by passing autocast=False to the base Layer constructor.\n",
      "\n",
      "24/24 [==============================] - 0s 3ms/step - loss: 0.6539 - accuracy: 0.6292\n",
      "Epoch 2/19\n",
      "24/24 [==============================] - 0s 3ms/step - loss: 0.6205 - accuracy: 0.6514\n",
      "Epoch 3/19\n",
      "24/24 [==============================] - 0s 3ms/step - loss: 0.6029 - accuracy: 0.6815\n",
      "Epoch 4/19\n",
      "24/24 [==============================] - 0s 3ms/step - loss: 0.5528 - accuracy: 0.7441\n",
      "Epoch 5/19\n",
      "24/24 [==============================] - 0s 2ms/step - loss: 0.4910 - accuracy: 0.7833\n",
      "Epoch 6/19\n",
      "24/24 [==============================] - 0s 2ms/step - loss: 0.4503 - accuracy: 0.7990\n",
      "Epoch 7/19\n",
      "24/24 [==============================] - 0s 2ms/step - loss: 0.3998 - accuracy: 0.8329\n",
      "Epoch 8/19\n",
      "24/24 [==============================] - 0s 2ms/step - loss: 0.4021 - accuracy: 0.8238\n",
      "Epoch 9/19\n",
      "24/24 [==============================] - 0s 2ms/step - loss: 0.3673 - accuracy: 0.8394\n",
      "Epoch 10/19\n",
      "24/24 [==============================] - 0s 2ms/step - loss: 0.2925 - accuracy: 0.8825\n",
      "Epoch 11/19\n",
      "24/24 [==============================] - 0s 2ms/step - loss: 0.2525 - accuracy: 0.9008\n",
      "Epoch 12/19\n",
      "24/24 [==============================] - 0s 2ms/step - loss: 0.2281 - accuracy: 0.9099\n",
      "Epoch 13/19\n",
      "24/24 [==============================] - 0s 2ms/step - loss: 0.1871 - accuracy: 0.9373\n",
      "Epoch 14/19\n",
      "24/24 [==============================] - 0s 2ms/step - loss: 0.1794 - accuracy: 0.9321\n",
      "Epoch 15/19\n",
      "24/24 [==============================] - 0s 2ms/step - loss: 0.1673 - accuracy: 0.9308\n",
      "Epoch 16/19\n",
      "24/24 [==============================] - 0s 2ms/step - loss: 0.0931 - accuracy: 0.9687\n",
      "Epoch 17/19\n",
      "24/24 [==============================] - 0s 2ms/step - loss: 0.0694 - accuracy: 0.9778\n",
      "Epoch 18/19\n",
      "24/24 [==============================] - 0s 2ms/step - loss: 0.0709 - accuracy: 0.9713\n",
      "Epoch 19/19\n",
      "24/24 [==============================] - 0s 2ms/step - loss: 0.0593 - accuracy: 0.9765\n"
     ]
    },
    {
     "data": {
      "text/plain": [
       "<tensorflow.python.keras.callbacks.History at 0x2456068fac0>"
      ]
     },
     "execution_count": 121,
     "metadata": {},
     "output_type": "execute_result"
    }
   ],
   "source": [
    "# your code here\n",
    "from sklearn.model_selection import train_test_split\n",
    "\n",
    "X = normalize_input\n",
    "y = data3output\n",
    "X_train, X_test, y_train, y_test = train_test_split(X,y, test_size = 0.2)\n",
    "\n",
    "model = tf.keras.models.Sequential() # Calling the model\n",
    "model.add(tf.keras.layers.Flatten()) # Flatten our data so that it can properly enter the NN\n",
    "model.add(tf.keras.layers.Dense(103, activation=tf.nn.relu)) # Layer 1\n",
    "model.add(tf.keras.layers.Dense(103, activation=tf.nn.relu)) # Layer 2\n",
    "model.add(tf.keras.layers.Dense(103, activation=tf.nn.relu)) # Layer 3\n",
    "model.add(tf.keras.layers.Dense(103, activation=tf.nn.relu)) # Layer 4\n",
    "model.add(tf.keras.layers.Dense(103, activation=tf.nn.relu)) # Layer 5\n",
    "model.add(tf.keras.layers.Dense(103, activation=tf.nn.relu)) # Layer 6\n",
    "model.add(tf.keras.layers.Dense(2, activation=tf.nn.softmax)) # Output layer, 2 different outputs: Win|Loss\n",
    "\n",
    "model.compile(optimizer='adam', loss='sparse_categorical_crossentropy', metrics=['accuracy'])\n",
    "\n",
    "model.fit(X_train, y_train, epochs=19)"
   ]
  },
  {
   "cell_type": "code",
   "execution_count": 122,
   "metadata": {},
   "outputs": [
    {
     "name": "stdout",
     "output_type": "stream",
     "text": [
      "6/6 [==============================] - 0s 2ms/step - loss: 0.2832 - accuracy: 0.9062\n"
     ]
    }
   ],
   "source": [
    "val_loss, val_acc = model.evaluate(X_test, y_test)\n",
    "# The model seems to perform best at 5 epochs and 4 hidden layers in comparison with 3 epochs and 2 hidden layers.\n",
    "# The difference between our training & test results is also pretty close which means there's no overfitting.\n",
    "# The loss is still very high."
   ]
  },
  {
   "cell_type": "code",
   "execution_count": 123,
   "metadata": {},
   "outputs": [
    {
     "name": "stdout",
     "output_type": "stream",
     "text": [
      "INFO:tensorflow:Assets written to: tic-tac-toe.model\\assets\n"
     ]
    }
   ],
   "source": [
    "model.save('tic-tac-toe.model')"
   ]
  },
  {
   "cell_type": "markdown",
   "metadata": {},
   "source": [
    "## Step 3: Make Predictions\n",
    "\n",
    "Now load your saved model and use it to make predictions on a few random rows in the test dataset. Check if the predictions are correct."
   ]
  },
  {
   "cell_type": "code",
   "execution_count": 124,
   "metadata": {},
   "outputs": [],
   "source": [
    "# your code here\n",
    "new_model = tf.keras.models.load_model('tic-tac-toe.model')"
   ]
  },
  {
   "cell_type": "code",
   "execution_count": 125,
   "metadata": {},
   "outputs": [],
   "source": [
    "predictions = new_model.predict([X_test])"
   ]
  },
  {
   "cell_type": "code",
   "execution_count": 129,
   "metadata": {},
   "outputs": [
    {
     "name": "stdout",
     "output_type": "stream",
     "text": [
      "[0.37551028 0.6244897 ]\n"
     ]
    }
   ],
   "source": [
    "print(predictions[0])"
   ]
  },
  {
   "cell_type": "markdown",
   "metadata": {},
   "source": [
    "## Step 4: Improve Your Model\n",
    "\n",
    "Did your model achieve low loss (<0.1) and high accuracy (>0.95)? If not, try to improve your model.\n",
    "\n",
    "But how? There are so many things you can play with in Tensorflow and in the next challenge you'll learn about these things. But in this challenge, let's just do a few things to see if they will help.\n",
    "\n",
    "* Add more layers to your model. If the data are complex you need more layers. But don't use more layers than you need. If adding more layers does not improve the model performance you don't need additional layers.\n",
    "* Adjust the learning rate when you compile the model. This means you will create a custom `tf.keras.optimizers.Adam` instance where you specify the learning rate you want. Then pass the instance to `model.compile` as the optimizer.\n",
    "    * `tf.keras.optimizers.Adam` [reference](https://www.tensorflow.org/api_docs/python/tf/keras/optimizers/Adam).\n",
    "    * Don't worry if you don't understand what the learning rate does. You'll learn about it in the next challenge.\n",
    "* Adjust the number of epochs when you fit the training data to the model. Your model performance continues to improve as you train more epochs. But eventually it will reach the ceiling and the performance will stay the same."
   ]
  },
  {
   "cell_type": "code",
   "execution_count": 215,
   "metadata": {},
   "outputs": [
    {
     "name": "stdout",
     "output_type": "stream",
     "text": [
      "Epoch 1/19\n",
      "WARNING:tensorflow:Layer flatten_85 is casting an input tensor from dtype float64 to the layer's dtype of float32, which is new behavior in TensorFlow 2.  The layer has dtype float32 because its dtype defaults to floatx.\n",
      "\n",
      "If you intended to run this layer in float32, you can safely ignore this warning. If in doubt, this warning is likely only an issue if you are porting a TensorFlow 1.X model to TensorFlow 2.\n",
      "\n",
      "To change all layers to have dtype float64 by default, call `tf.keras.backend.set_floatx('float64')`. To change just this layer, pass dtype='float64' to the layer constructor. If you are the author of this layer, you can disable autocasting by passing autocast=False to the base Layer constructor.\n",
      "\n",
      "24/24 [==============================] - 0s 3ms/step - loss: 0.6544 - accuracy: 0.6384\n",
      "Epoch 2/19\n",
      "24/24 [==============================] - 0s 2ms/step - loss: 0.6320 - accuracy: 0.6501\n",
      "Epoch 3/19\n",
      "24/24 [==============================] - 0s 2ms/step - loss: 0.6096 - accuracy: 0.6854\n",
      "Epoch 4/19\n",
      "24/24 [==============================] - 0s 2ms/step - loss: 0.5669 - accuracy: 0.7324\n",
      "Epoch 5/19\n",
      "24/24 [==============================] - 0s 2ms/step - loss: 0.5172 - accuracy: 0.7755\n",
      "Epoch 6/19\n",
      "24/24 [==============================] - 0s 2ms/step - loss: 0.4743 - accuracy: 0.7833\n",
      "Epoch 7/19\n",
      "24/24 [==============================] - 0s 2ms/step - loss: 0.4321 - accuracy: 0.8133\n",
      "Epoch 8/19\n",
      "24/24 [==============================] - 0s 2ms/step - loss: 0.4034 - accuracy: 0.8316\n",
      "Epoch 9/19\n",
      "24/24 [==============================] - ETA: 0s - loss: 0.4026 - accuracy: 0.84 - 0s 2ms/step - loss: 0.3801 - accuracy: 0.8394\n",
      "Epoch 10/19\n",
      "24/24 [==============================] - 0s 2ms/step - loss: 0.3384 - accuracy: 0.8642\n",
      "Epoch 11/19\n",
      "24/24 [==============================] - 0s 2ms/step - loss: 0.3175 - accuracy: 0.8616\n",
      "Epoch 12/19\n",
      "24/24 [==============================] - 0s 2ms/step - loss: 0.2821 - accuracy: 0.8851\n",
      "Epoch 13/19\n",
      "24/24 [==============================] - 0s 2ms/step - loss: 0.2937 - accuracy: 0.8668\n",
      "Epoch 14/19\n",
      "24/24 [==============================] - 0s 3ms/step - loss: 0.2498 - accuracy: 0.8930\n",
      "Epoch 15/19\n",
      "24/24 [==============================] - 0s 2ms/step - loss: 0.2163 - accuracy: 0.9112\n",
      "Epoch 16/19\n",
      "24/24 [==============================] - 0s 2ms/step - loss: 0.1793 - accuracy: 0.9386\n",
      "Epoch 17/19\n",
      "24/24 [==============================] - 0s 2ms/step - loss: 0.1668 - accuracy: 0.9334\n",
      "Epoch 18/19\n",
      "24/24 [==============================] - 0s 2ms/step - loss: 0.1980 - accuracy: 0.9178\n",
      "Epoch 19/19\n",
      "24/24 [==============================] - 0s 2ms/step - loss: 0.1735 - accuracy: 0.9295\n"
     ]
    },
    {
     "data": {
      "text/plain": [
       "<tensorflow.python.keras.callbacks.History at 0x2457fc83400>"
      ]
     },
     "execution_count": 215,
     "metadata": {},
     "output_type": "execute_result"
    }
   ],
   "source": [
    "# your code here\n",
    "X = normalize_input\n",
    "y = data3output\n",
    "X_train, X_test, y_train, y_test = train_test_split(X,y, test_size = 0.2)\n",
    "\n",
    "model = tf.keras.models.Sequential() # Calling the model\n",
    "model.add(tf.keras.layers.Flatten()) # Flatten our data so that it can properly enter the NN\n",
    "model.add(tf.keras.layers.Dense(128, activation=tf.nn.relu)) # Layer 1\n",
    "model.add(tf.keras.layers.Dense(128, activation=tf.nn.relu)) # Layer 2\n",
    "model.add(tf.keras.layers.Dense(128, activation=tf.nn.relu)) # Layer 2\n",
    "model.add(tf.keras.layers.Dense(128, activation=tf.nn.relu)) # Layer 2\n",
    "model.add(tf.keras.layers.Dense(2, activation=tf.nn.softmax)) # Output layer, 2 different outputs: Win|Loss\n",
    "\n",
    "opt = tf.keras.optimizers.Adam(learning_rate=0.001, beta_1=0.9, beta_2=0.999, epsilon=1e-07, amsgrad=False)\n",
    "\n",
    "model.compile(optimizer=opt, loss='sparse_categorical_crossentropy', metrics=['accuracy'])\n",
    "\n",
    "model.fit(X_train, y_train, epochs=19)"
   ]
  },
  {
   "cell_type": "code",
   "execution_count": 216,
   "metadata": {},
   "outputs": [
    {
     "name": "stdout",
     "output_type": "stream",
     "text": [
      "6/6 [==============================] - 0s 2ms/step - loss: 0.2778 - accuracy: 0.9062\n"
     ]
    }
   ],
   "source": [
    "val_loss, val_acc = model.evaluate(X_test, y_test)"
   ]
  },
  {
   "cell_type": "markdown",
   "metadata": {},
   "source": [
    "**Which approach(es) did you find helpful to improve your model performance?**"
   ]
  },
  {
   "cell_type": "code",
   "execution_count": null,
   "metadata": {},
   "outputs": [],
   "source": [
    "# your answer here"
   ]
  }
 ],
 "metadata": {
  "kernelspec": {
   "display_name": "Python 3",
   "language": "python",
   "name": "python3"
  },
  "language_info": {
   "codemirror_mode": {
    "name": "ipython",
    "version": 3
   },
   "file_extension": ".py",
   "mimetype": "text/x-python",
   "name": "python",
   "nbconvert_exporter": "python",
   "pygments_lexer": "ipython3",
   "version": "3.8.3"
  }
 },
 "nbformat": 4,
 "nbformat_minor": 2
}
