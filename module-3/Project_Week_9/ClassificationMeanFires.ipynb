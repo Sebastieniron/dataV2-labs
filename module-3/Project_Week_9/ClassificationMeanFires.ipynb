{
 "cells": [
  {
   "cell_type": "code",
   "execution_count": 1,
   "metadata": {},
   "outputs": [],
   "source": [
    "import pandas as pd\n",
    "import numpy as np\n",
    "import matplotlib.pyplot as plt\n",
    "import seaborn as sns"
   ]
  },
  {
   "cell_type": "code",
   "execution_count": 160,
   "metadata": {},
   "outputs": [],
   "source": [
    "dataLog = pd.read_csv('DataWithLog.csv')\n",
    "dataNoLog = pd.read_csv('DataNoLog.csv')\n",
    "\n",
    "# Since the range of our target variable \"area\" is so big and it is imbalanced we will try different approaches.\n",
    "# We will in both cases use classification as it is our goal to predict whether a fire will be 'big' or not.\n",
    "# Big or not consists of: bigger/smaller than mean fire size, but also bigger/smaller than mean*1.5IQR fire size.\n",
    "\n",
    "# Our first try will consist of performing a logarithmic transformation on the target variable 'area'.\n",
    "# As you will see this will take care of the 'big range' of the variable and also solve the imbalance problem!\n",
    "# We do have to keep in mind that when checking for results we will have to 'undo' this operation on our target variable.\n",
    "\n",
    "# Our second try will consist of performing SMOTE (oversampling) on our target variable in order to deal with the imbalance.\n",
    "\n",
    "# When both methods have been completed we will respectively create a model for each dataset and compare results."
   ]
  },
  {
   "cell_type": "markdown",
   "metadata": {},
   "source": [
    "# With Log "
   ]
  },
  {
   "cell_type": "code",
   "execution_count": 9,
   "metadata": {},
   "outputs": [
    {
     "data": {
      "text/plain": [
       "1.1110257652960873"
      ]
     },
     "execution_count": 9,
     "metadata": {},
     "output_type": "execute_result"
    }
   ],
   "source": [
    "np.mean(dataLog['area'])"
   ]
  },
  {
   "cell_type": "code",
   "execution_count": 10,
   "metadata": {},
   "outputs": [
    {
     "data": {
      "text/plain": [
       "6.995619625423205"
      ]
     },
     "execution_count": 10,
     "metadata": {},
     "output_type": "execute_result"
    }
   ],
   "source": [
    "np.max(dataLog['area'])-np.min(dataLog['area'])"
   ]
  },
  {
   "cell_type": "code",
   "execution_count": 161,
   "metadata": {},
   "outputs": [
    {
     "data": {
      "text/plain": [
       "0    312\n",
       "1    205\n",
       "Name: MeanFire, dtype: int64"
      ]
     },
     "execution_count": 161,
     "metadata": {},
     "output_type": "execute_result"
    }
   ],
   "source": [
    "dataLog['MeanFire'] = np.where(dataLog['area']<np.mean(dataLog['area']), 0, 1)\n",
    "dataLog['MeanFire'].value_counts()\n",
    "\n",
    "# These are averige fires so it is normal they are distributed this way."
   ]
  },
  {
   "cell_type": "code",
   "execution_count": 162,
   "metadata": {},
   "outputs": [
    {
     "data": {
      "text/plain": [
       "0    509\n",
       "1      8\n",
       "Name: IQRFire, dtype: int64"
      ]
     },
     "execution_count": 162,
     "metadata": {},
     "output_type": "execute_result"
    }
   ],
   "source": [
    "Q1 = dataLog['area'].quantile(0.25)\n",
    "Q3 = dataLog['area'].quantile(0.75)\n",
    "IQR = Q3 - Q1\n",
    "dataLog['IQRFire'] = np.where(dataLog['area']<(Q3+1.5*IQR), 0, 1)\n",
    "dataLog['IQRFire'].value_counts()\n",
    "\n",
    "# These fires are extremely big, so it is normal they do not occur that much.\n",
    "# Seems like we will perform SMOTE here as well."
   ]
  },
  {
   "cell_type": "code",
   "execution_count": 167,
   "metadata": {},
   "outputs": [],
   "source": [
    "from sklearn.preprocessing import StandardScaler\n",
    "from sklearn.preprocessing import MinMaxScaler\n",
    "\n",
    "standardscaler = StandardScaler()\n",
    "normalizescaler = MinMaxScaler()\n",
    "\n",
    "StandardData = standardscaler.fit(dataLog.drop(columns=['area','MeanFire','IQRFire','day']))\n",
    "StandardData = standardscaler.transform(dataLog.drop(columns=['area','MeanFire','IQRFire','day']))\n",
    "StandardData = pd.DataFrame(StandardData, columns=['month','FFMC','DMC','DC','ISI','temp','RH','wind','rain'])\n",
    "StandardData['MeanFire'] = dataLog['MeanFire']\n",
    "StandardData['IQRFire'] = dataLog['IQRFire']\n",
    "StandardData['day'] = dataLog['day']\n",
    "\n",
    "NormData = normalizescaler.fit(dataLog.drop(columns=['area','MeanFire','IQRFire']))\n",
    "NormData = normalizescaler.transform(dataLog.drop(columns=['area','MeanFire','IQRFire']))\n",
    "NormData = pd.DataFrame(NormData, columns=['month','day','FFMC','DMC','DC','ISI','temp','RH','wind','rain'])\n",
    "NormData['MeanFire'] = dataLog['MeanFire']\n",
    "NormData['IQRFire'] = dataLog['IQRFire']\n",
    "\n",
    "# 2 new DFs: StandardData & NormData\n",
    "\n",
    "StandardData.to_csv('standarddata.csv', index=False)\n",
    "NormData.to_csv('normdata.csv', index=False)"
   ]
  },
  {
   "cell_type": "markdown",
   "metadata": {},
   "source": [
    "# Logistic Regression normalized data"
   ]
  },
  {
   "cell_type": "code",
   "execution_count": 149,
   "metadata": {},
   "outputs": [
    {
     "data": {
      "text/plain": [
       "LogisticRegression()"
      ]
     },
     "execution_count": 149,
     "metadata": {},
     "output_type": "execute_result"
    }
   ],
   "source": [
    "from sklearn.linear_model import LogisticRegression\n",
    "from sklearn.model_selection import train_test_split\n",
    "\n",
    "X = NormData.drop(columns=['MeanFire','IQRFire'])\n",
    "y = NormData['MeanFire']\n",
    "\n",
    "X_train, X_test, y_train, y_test = train_test_split(X, y, test_size=0.2)\n",
    "\n",
    "model1 = LogisticRegression()\n",
    "model1.fit(X_train, y_train)"
   ]
  },
  {
   "cell_type": "code",
   "execution_count": 150,
   "metadata": {},
   "outputs": [
    {
     "name": "stdout",
     "output_type": "stream",
     "text": [
      "Accuracy score is: 0.6442307692307693\n",
      "Confusion Matrix:\n",
      " [[59  5]\n",
      " [32  8]]\n"
     ]
    }
   ],
   "source": [
    "from sklearn.metrics import confusion_matrix, accuracy_score\n",
    "\n",
    "score = model1.score(X_test,y_test)\n",
    "\n",
    "# Predict using test data\n",
    "y_pred = model1.predict(X_test)\n",
    "\n",
    "# Generate matrix\n",
    "matrix = confusion_matrix(y_test, y_pred)\n",
    "\n",
    "print('Accuracy score is:', score)\n",
    "print('Confusion Matrix:\\n',matrix)"
   ]
  },
  {
   "cell_type": "markdown",
   "metadata": {},
   "source": [
    "# Logistic Regression standardized data"
   ]
  },
  {
   "cell_type": "code",
   "execution_count": 79,
   "metadata": {},
   "outputs": [
    {
     "data": {
      "text/plain": [
       "LogisticRegression()"
      ]
     },
     "execution_count": 79,
     "metadata": {},
     "output_type": "execute_result"
    }
   ],
   "source": [
    "X = StandardData.drop(columns=['MeanFire','IQRFire'])\n",
    "y = StandardData['MeanFire']\n",
    "\n",
    "X_train, X_test, y_train, y_test = train_test_split(X, y, test_size=0.2)\n",
    "\n",
    "model2 = LogisticRegression()\n",
    "model2.fit(X_train, y_train)"
   ]
  },
  {
   "cell_type": "code",
   "execution_count": 80,
   "metadata": {},
   "outputs": [
    {
     "name": "stdout",
     "output_type": "stream",
     "text": [
      "Accuracy score is: 0.6346153846153846\n",
      "Confusion Matrix:\n",
      " [[54 13]\n",
      " [27 10]]\n"
     ]
    }
   ],
   "source": [
    "score = model2.score(X_test,y_test)\n",
    "\n",
    "# Predict using test data\n",
    "y_pred = model1.predict(X_test)\n",
    "\n",
    "# Generate matrix\n",
    "matrix = confusion_matrix(y_test, y_pred)\n",
    "\n",
    "print('Accuracy score is:', score)\n",
    "print('Confusion Matrix:\\n',matrix)"
   ]
  },
  {
   "cell_type": "markdown",
   "metadata": {},
   "source": [
    "# KNN normalized data"
   ]
  },
  {
   "cell_type": "code",
   "execution_count": 129,
   "metadata": {},
   "outputs": [
    {
     "data": {
      "text/plain": [
       "KNeighborsClassifier(n_neighbors=2)"
      ]
     },
     "execution_count": 129,
     "metadata": {},
     "output_type": "execute_result"
    }
   ],
   "source": [
    "from sklearn.neighbors import KNeighborsClassifier\n",
    "\n",
    "X = NormData.drop(columns=['MeanFire','IQRFire'])\n",
    "y = NormData['MeanFire']\n",
    "\n",
    "X_train, X_test, y_train, y_test = train_test_split(X, y, test_size = 0.2)\n",
    "\n",
    "model1 = KNeighborsClassifier(n_neighbors=2)\n",
    "model1.fit(X_train, y_train)"
   ]
  },
  {
   "cell_type": "code",
   "execution_count": 130,
   "metadata": {},
   "outputs": [
    {
     "name": "stdout",
     "output_type": "stream",
     "text": [
      "Accuracy score is: 0.6730769230769231\n",
      "Confusion Matrix:\n",
      " [[62  6]\n",
      " [28  8]]\n"
     ]
    }
   ],
   "source": [
    "knn_y_pred = model1.predict(X_test)\n",
    "knn_matrix = confusion_matrix(y_test, knn_y_pred)\n",
    "knn_score = model1.score(X_test,y_test)\n",
    "\n",
    "print('Accuracy score is:', knn_score)\n",
    "print('Confusion Matrix:\\n',knn_matrix)"
   ]
  },
  {
   "cell_type": "markdown",
   "metadata": {},
   "source": [
    "# KNN standardized data "
   ]
  },
  {
   "cell_type": "code",
   "execution_count": 145,
   "metadata": {},
   "outputs": [
    {
     "data": {
      "text/plain": [
       "KNeighborsClassifier(n_neighbors=2)"
      ]
     },
     "execution_count": 145,
     "metadata": {},
     "output_type": "execute_result"
    }
   ],
   "source": [
    "X = StandardData.drop(columns=['MeanFire','IQRFire'])\n",
    "y = StandardData['MeanFire']\n",
    "\n",
    "X_train, X_test, y_train, y_test = train_test_split(X, y, test_size = 0.2)\n",
    "\n",
    "model2 = KNeighborsClassifier(n_neighbors=2)\n",
    "model2.fit(X_train, y_train)"
   ]
  },
  {
   "cell_type": "code",
   "execution_count": 146,
   "metadata": {},
   "outputs": [
    {
     "name": "stdout",
     "output_type": "stream",
     "text": [
      "Accuracy score is: 0.6153846153846154\n",
      "Confusion Matrix:\n",
      " [[57 11]\n",
      " [29  7]]\n"
     ]
    }
   ],
   "source": [
    "knn_y_pred = model2.predict(X_test)\n",
    "knn_matrix = confusion_matrix(y_test, knn_y_pred)\n",
    "knn_score = model2.score(X_test,y_test)\n",
    "\n",
    "print('Accuracy score is:', knn_score)\n",
    "print('Confusion Matrix:\\n',knn_matrix)"
   ]
  },
  {
   "cell_type": "markdown",
   "metadata": {},
   "source": [
    "# Closer look at the 8 'big' fires"
   ]
  },
  {
   "cell_type": "code",
   "execution_count": 164,
   "metadata": {},
   "outputs": [
    {
     "data": {
      "text/plain": [
       "0    509\n",
       "1      8\n",
       "Name: IQRFire, dtype: int64"
      ]
     },
     "execution_count": 164,
     "metadata": {},
     "output_type": "execute_result"
    }
   ],
   "source": [
    "dataLog['IQRFire'].value_counts()"
   ]
  },
  {
   "cell_type": "code",
   "execution_count": 166,
   "metadata": {},
   "outputs": [
    {
     "data": {
      "text/html": [
       "<div>\n",
       "<style scoped>\n",
       "    .dataframe tbody tr th:only-of-type {\n",
       "        vertical-align: middle;\n",
       "    }\n",
       "\n",
       "    .dataframe tbody tr th {\n",
       "        vertical-align: top;\n",
       "    }\n",
       "\n",
       "    .dataframe thead th {\n",
       "        text-align: right;\n",
       "    }\n",
       "</style>\n",
       "<table border=\"1\" class=\"dataframe\">\n",
       "  <thead>\n",
       "    <tr style=\"text-align: right;\">\n",
       "      <th></th>\n",
       "      <th>month</th>\n",
       "      <th>day</th>\n",
       "      <th>FFMC</th>\n",
       "      <th>DMC</th>\n",
       "      <th>DC</th>\n",
       "      <th>ISI</th>\n",
       "      <th>temp</th>\n",
       "      <th>RH</th>\n",
       "      <th>wind</th>\n",
       "      <th>rain</th>\n",
       "      <th>area</th>\n",
       "      <th>MeanFire</th>\n",
       "      <th>IQRFire</th>\n",
       "    </tr>\n",
       "  </thead>\n",
       "  <tbody>\n",
       "    <tr>\n",
       "      <th>235</th>\n",
       "      <td>3</td>\n",
       "      <td>1</td>\n",
       "      <td>91.4</td>\n",
       "      <td>142.4</td>\n",
       "      <td>601.4</td>\n",
       "      <td>10.6</td>\n",
       "      <td>19.6</td>\n",
       "      <td>41</td>\n",
       "      <td>5.8</td>\n",
       "      <td>0.0</td>\n",
       "      <td>5.285637</td>\n",
       "      <td>1</td>\n",
       "      <td>1</td>\n",
       "    </tr>\n",
       "    <tr>\n",
       "      <th>236</th>\n",
       "      <td>4</td>\n",
       "      <td>1</td>\n",
       "      <td>92.5</td>\n",
       "      <td>121.1</td>\n",
       "      <td>674.4</td>\n",
       "      <td>8.6</td>\n",
       "      <td>18.2</td>\n",
       "      <td>46</td>\n",
       "      <td>1.8</td>\n",
       "      <td>0.0</td>\n",
       "      <td>5.307971</td>\n",
       "      <td>1</td>\n",
       "      <td>1</td>\n",
       "    </tr>\n",
       "    <tr>\n",
       "      <th>237</th>\n",
       "      <td>4</td>\n",
       "      <td>0</td>\n",
       "      <td>91.0</td>\n",
       "      <td>129.5</td>\n",
       "      <td>692.6</td>\n",
       "      <td>7.0</td>\n",
       "      <td>18.8</td>\n",
       "      <td>40</td>\n",
       "      <td>2.2</td>\n",
       "      <td>0.0</td>\n",
       "      <td>5.365415</td>\n",
       "      <td>1</td>\n",
       "      <td>1</td>\n",
       "    </tr>\n",
       "    <tr>\n",
       "      <th>238</th>\n",
       "      <td>4</td>\n",
       "      <td>1</td>\n",
       "      <td>92.5</td>\n",
       "      <td>121.1</td>\n",
       "      <td>674.4</td>\n",
       "      <td>8.6</td>\n",
       "      <td>25.1</td>\n",
       "      <td>27</td>\n",
       "      <td>4.0</td>\n",
       "      <td>0.0</td>\n",
       "      <td>6.995620</td>\n",
       "      <td>1</td>\n",
       "      <td>1</td>\n",
       "    </tr>\n",
       "    <tr>\n",
       "      <th>377</th>\n",
       "      <td>3</td>\n",
       "      <td>1</td>\n",
       "      <td>93.7</td>\n",
       "      <td>231.1</td>\n",
       "      <td>715.1</td>\n",
       "      <td>8.4</td>\n",
       "      <td>21.9</td>\n",
       "      <td>42</td>\n",
       "      <td>2.2</td>\n",
       "      <td>0.0</td>\n",
       "      <td>5.168380</td>\n",
       "      <td>1</td>\n",
       "      <td>1</td>\n",
       "    </tr>\n",
       "    <tr>\n",
       "      <th>415</th>\n",
       "      <td>3</td>\n",
       "      <td>0</td>\n",
       "      <td>94.8</td>\n",
       "      <td>222.4</td>\n",
       "      <td>698.6</td>\n",
       "      <td>13.9</td>\n",
       "      <td>27.5</td>\n",
       "      <td>27</td>\n",
       "      <td>4.9</td>\n",
       "      <td>0.0</td>\n",
       "      <td>6.616440</td>\n",
       "      <td>1</td>\n",
       "      <td>1</td>\n",
       "    </tr>\n",
       "    <tr>\n",
       "      <th>420</th>\n",
       "      <td>3</td>\n",
       "      <td>0</td>\n",
       "      <td>91.7</td>\n",
       "      <td>191.4</td>\n",
       "      <td>635.9</td>\n",
       "      <td>7.8</td>\n",
       "      <td>26.2</td>\n",
       "      <td>36</td>\n",
       "      <td>4.5</td>\n",
       "      <td>0.0</td>\n",
       "      <td>5.229824</td>\n",
       "      <td>1</td>\n",
       "      <td>1</td>\n",
       "    </tr>\n",
       "    <tr>\n",
       "      <th>479</th>\n",
       "      <td>3</td>\n",
       "      <td>0</td>\n",
       "      <td>89.2</td>\n",
       "      <td>103.9</td>\n",
       "      <td>431.6</td>\n",
       "      <td>6.4</td>\n",
       "      <td>22.6</td>\n",
       "      <td>57</td>\n",
       "      <td>4.9</td>\n",
       "      <td>0.0</td>\n",
       "      <td>5.633110</td>\n",
       "      <td>1</td>\n",
       "      <td>1</td>\n",
       "    </tr>\n",
       "  </tbody>\n",
       "</table>\n",
       "</div>"
      ],
      "text/plain": [
       "     month  day  FFMC    DMC     DC   ISI  temp  RH  wind  rain      area  \\\n",
       "235      3    1  91.4  142.4  601.4  10.6  19.6  41   5.8   0.0  5.285637   \n",
       "236      4    1  92.5  121.1  674.4   8.6  18.2  46   1.8   0.0  5.307971   \n",
       "237      4    0  91.0  129.5  692.6   7.0  18.8  40   2.2   0.0  5.365415   \n",
       "238      4    1  92.5  121.1  674.4   8.6  25.1  27   4.0   0.0  6.995620   \n",
       "377      3    1  93.7  231.1  715.1   8.4  21.9  42   2.2   0.0  5.168380   \n",
       "415      3    0  94.8  222.4  698.6  13.9  27.5  27   4.9   0.0  6.616440   \n",
       "420      3    0  91.7  191.4  635.9   7.8  26.2  36   4.5   0.0  5.229824   \n",
       "479      3    0  89.2  103.9  431.6   6.4  22.6  57   4.9   0.0  5.633110   \n",
       "\n",
       "     MeanFire  IQRFire  \n",
       "235         1        1  \n",
       "236         1        1  \n",
       "237         1        1  \n",
       "238         1        1  \n",
       "377         1        1  \n",
       "415         1        1  \n",
       "420         1        1  \n",
       "479         1        1  "
      ]
     },
     "execution_count": 166,
     "metadata": {},
     "output_type": "execute_result"
    }
   ],
   "source": [
    "BigFires = dataLog.loc[(dataLog['IQRFire']==1)]\n",
    "BigFires\n",
    "\n",
    "# We need to find out more about FFMC, DMC, DC, ISI."
   ]
  }
 ],
 "metadata": {
  "kernelspec": {
   "display_name": "Python 3",
   "language": "python",
   "name": "python3"
  },
  "language_info": {
   "codemirror_mode": {
    "name": "ipython",
    "version": 3
   },
   "file_extension": ".py",
   "mimetype": "text/x-python",
   "name": "python",
   "nbconvert_exporter": "python",
   "pygments_lexer": "ipython3",
   "version": "3.8.3"
  }
 },
 "nbformat": 4,
 "nbformat_minor": 4
}
