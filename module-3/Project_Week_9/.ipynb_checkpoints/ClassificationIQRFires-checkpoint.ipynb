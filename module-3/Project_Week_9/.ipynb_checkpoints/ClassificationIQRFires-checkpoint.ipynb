{
 "cells": [
  {
   "cell_type": "code",
   "execution_count": 94,
   "metadata": {},
   "outputs": [],
   "source": [
    "import pandas as pd\n",
    "import numpy as np\n",
    "from sklearn.linear_model import LogisticRegression\n",
    "from sklearn.model_selection import train_test_split\n",
    "from sklearn.metrics import confusion_matrix, accuracy_score\n",
    "from sklearn.neighbors import KNeighborsClassifier\n",
    "import matplotlib.pyplot as plt"
   ]
  },
  {
   "cell_type": "code",
   "execution_count": 95,
   "metadata": {},
   "outputs": [],
   "source": [
    "normdata = pd.read_csv('normdata.csv')\n",
    "standdata = pd.read_csv('standarddata.csv')"
   ]
  },
  {
   "cell_type": "code",
   "execution_count": 96,
   "metadata": {},
   "outputs": [
    {
     "name": "stdout",
     "output_type": "stream",
     "text": [
      "0    509\n",
      "1      8\n",
      "Name: IQRFire, dtype: int64\n",
      "0    509\n",
      "1      8\n",
      "Name: IQRFire, dtype: int64\n"
     ]
    }
   ],
   "source": [
    "print(normdata['IQRFire'].value_counts())\n",
    "print(standdata['IQRFire'].value_counts())\n",
    "# As we can see we have an imbalanced target variable. Minority class = Fires smaller than MeanFireSize+1.5*Q3.\n",
    "# We will apply SMOTE (oversampling) in order to get a balanced target variable.\n",
    "# We do have to check for overfitting when oversampling."
   ]
  },
  {
   "cell_type": "markdown",
   "metadata": {},
   "source": [
    "#  Logistic Regression normalized data"
   ]
  },
  {
   "cell_type": "code",
   "execution_count": 97,
   "metadata": {},
   "outputs": [
    {
     "name": "stdout",
     "output_type": "stream",
     "text": [
      "Counter({0: 509, 1: 509})\n"
     ]
    },
    {
     "data": {
      "text/plain": [
       "0.7064220183486238"
      ]
     },
     "execution_count": 97,
     "metadata": {},
     "output_type": "execute_result"
    }
   ],
   "source": [
    "from imblearn.over_sampling import SMOTE\n",
    "from collections import Counter\n",
    "\n",
    "X = normdata.drop(columns=['MeanFire','IQRFire'])\n",
    "y = normdata['IQRFire']\n",
    "\n",
    "oversampler = SMOTE()\n",
    "X, y = oversampler.fit_resample(X,y)\n",
    "\n",
    "counter = Counter(y)\n",
    "print(counter)\n",
    "\n",
    "X_train, X_test, y_train, y_test = train_test_split(X,y, test_size=0.25)\n",
    "\n",
    "model_smote = LogisticRegression()\n",
    "model_smote.fit(X_train, y_train)\n",
    "model_smote.score(X_train, y_train)"
   ]
  },
  {
   "cell_type": "code",
   "execution_count": 98,
   "metadata": {},
   "outputs": [
    {
     "data": {
      "text/plain": [
       "0.7294117647058823"
      ]
     },
     "execution_count": 98,
     "metadata": {},
     "output_type": "execute_result"
    }
   ],
   "source": [
    "model_smote.score(X_test, y_test)"
   ]
  },
  {
   "cell_type": "markdown",
   "metadata": {},
   "source": [
    "# Logistic Regression standardized data"
   ]
  },
  {
   "cell_type": "code",
   "execution_count": 99,
   "metadata": {},
   "outputs": [
    {
     "name": "stdout",
     "output_type": "stream",
     "text": [
      "Counter({0: 509, 1: 509})\n"
     ]
    },
    {
     "data": {
      "text/plain": [
       "0.7771952817824378"
      ]
     },
     "execution_count": 99,
     "metadata": {},
     "output_type": "execute_result"
    }
   ],
   "source": [
    "X = standdata.drop(columns=['MeanFire','IQRFire'])\n",
    "y = standdata['IQRFire']\n",
    "\n",
    "oversampler = SMOTE()\n",
    "X, y = oversampler.fit_resample(X,y)\n",
    "\n",
    "counter = Counter(y)\n",
    "print(counter)\n",
    "\n",
    "X_train, X_test, y_train, y_test = train_test_split(X,y, test_size=0.25)\n",
    "\n",
    "model_smote = LogisticRegression()\n",
    "model_smote.fit(X_train, y_train)\n",
    "model_smote.score(X_train, y_train)"
   ]
  },
  {
   "cell_type": "code",
   "execution_count": 100,
   "metadata": {},
   "outputs": [
    {
     "data": {
      "text/plain": [
       "0.803921568627451"
      ]
     },
     "execution_count": 100,
     "metadata": {},
     "output_type": "execute_result"
    }
   ],
   "source": [
    "model_smote.score(X_test, y_test)"
   ]
  },
  {
   "cell_type": "markdown",
   "metadata": {},
   "source": [
    "# KNN normalized data"
   ]
  },
  {
   "cell_type": "code",
   "execution_count": 121,
   "metadata": {},
   "outputs": [
    {
     "data": {
      "text/plain": [
       "0.9462647444298821"
      ]
     },
     "execution_count": 121,
     "metadata": {},
     "output_type": "execute_result"
    }
   ],
   "source": [
    "X = normdata.drop(columns=['MeanFire','IQRFire'])\n",
    "y = normdata['IQRFire']\n",
    "\n",
    "oversampler = SMOTE()\n",
    "X, y = oversampler.fit_resample(X,y)\n",
    "X_train, X_test, y_train, y_test = train_test_split(X,y, test_size=0.25)\n",
    "\n",
    "smote_model = KNeighborsClassifier(n_neighbors=7)\n",
    "smote_model.fit(X_train, y_train)\n",
    "smote_model.score(X_train, y_train)"
   ]
  },
  {
   "cell_type": "code",
   "execution_count": 122,
   "metadata": {},
   "outputs": [
    {
     "data": {
      "text/plain": [
       "0.9450980392156862"
      ]
     },
     "execution_count": 122,
     "metadata": {},
     "output_type": "execute_result"
    }
   ],
   "source": [
    "smote_model.score(X_test, y_test)"
   ]
  },
  {
   "cell_type": "code",
   "execution_count": 126,
   "metadata": {},
   "outputs": [
    {
     "name": "stdout",
     "output_type": "stream",
     "text": [
      "[0.95890411 0.93835616 0.93150685 0.89655172 0.84827586 0.83448276\n",
      " 0.95862069]\n"
     ]
    },
    {
     "data": {
      "text/plain": [
       "0.9095283082529184"
      ]
     },
     "execution_count": 126,
     "metadata": {},
     "output_type": "execute_result"
    }
   ],
   "source": [
    "from sklearn.model_selection import cross_val_score\n",
    "\n",
    "crossvalscore = cross_val_score(KNeighborsClassifier(n_neighbors=7), X, y, cv=7)\n",
    "print(crossvalscore)\n",
    "np.mean(crossvalscore)"
   ]
  },
  {
   "cell_type": "code",
   "execution_count": 105,
   "metadata": {
    "scrolled": true
   },
   "outputs": [
    {
     "data": {
      "text/plain": [
       "Text(0, 0.5, 'Error Rate')"
      ]
     },
     "execution_count": 105,
     "metadata": {},
     "output_type": "execute_result"
    },
    {
     "data": {
      "image/png": "[encoded data removed]",
      "text/plain": [
       "<Figure size 720x432 with 1 Axes>"
      ]
     },
     "metadata": {
      "needs_background": "light"
     },
     "output_type": "display_data"
    }
   ],
   "source": [
    "# Taken from : https://www.kaggle.com/e96031413/forest-fire-area-classification\n",
    "\n",
    "error_rate = []\n",
    "\n",
    "for i in range(1,60):\n",
    "    \n",
    "    knn = KNeighborsClassifier(n_neighbors=i)\n",
    "    knn.fit(X_train,y_train)\n",
    "    pred_i = knn.predict(X_test)\n",
    "    error_rate.append(np.mean(pred_i != y_test))\n",
    "\n",
    "\n",
    "plt.figure(figsize=(10,6))\n",
    "plt.plot(range(1,60),error_rate,color='blue', linestyle='dashed', marker='o',\n",
    "         markerfacecolor='red', markersize=10)\n",
    "plt.title('Error Rate vs. K Value')\n",
    "plt.xlabel('K')\n",
    "plt.ylabel('Error Rate')"
   ]
  },
  {
   "cell_type": "markdown",
   "metadata": {},
   "source": [
    "# KNN standardized data"
   ]
  },
  {
   "cell_type": "code",
   "execution_count": 129,
   "metadata": {},
   "outputs": [
    {
     "data": {
      "text/plain": [
       "0.9252948885976409"
      ]
     },
     "execution_count": 129,
     "metadata": {},
     "output_type": "execute_result"
    }
   ],
   "source": [
    "X = standdata.drop(columns=['MeanFire','IQRFire'])\n",
    "y = standdata['IQRFire']\n",
    "\n",
    "oversampler = SMOTE()\n",
    "X, y = oversampler.fit_resample(X,y)\n",
    "X_train, X_test, y_train, y_test = train_test_split(X,y, test_size=0.25)\n",
    "\n",
    "smote_model = KNeighborsClassifier(n_neighbors=7)\n",
    "smote_model.fit(X_train, y_train)\n",
    "smote_model.score(X_train, y_train)"
   ]
  },
  {
   "cell_type": "code",
   "execution_count": 130,
   "metadata": {},
   "outputs": [
    {
     "data": {
      "text/plain": [
       "0.9137254901960784"
      ]
     },
     "execution_count": 130,
     "metadata": {},
     "output_type": "execute_result"
    }
   ],
   "source": [
    "smote_model.score(X_test, y_test)"
   ]
  },
  {
   "cell_type": "code",
   "execution_count": 135,
   "metadata": {},
   "outputs": [
    {
     "name": "stdout",
     "output_type": "stream",
     "text": [
      "[0.92465753 0.91780822 0.91780822 0.84827586 0.75862069 0.76551724\n",
      " 0.95172414]\n"
     ]
    },
    {
     "data": {
      "text/plain": [
       "0.8692017005196032"
      ]
     },
     "execution_count": 135,
     "metadata": {},
     "output_type": "execute_result"
    }
   ],
   "source": [
    "crossvalscore = cross_val_score(KNeighborsClassifier(n_neighbors=7), X, y, cv=7)\n",
    "print(crossvalscore)\n",
    "np.mean(crossvalscore)"
   ]
  }
 ],
 "metadata": {
  "kernelspec": {
   "display_name": "Python 3",
   "language": "python",
   "name": "python3"
  },
  "language_info": {
   "codemirror_mode": {
    "name": "ipython",
    "version": 3
   },
   "file_extension": ".py",
   "mimetype": "text/x-python",
   "name": "python",
   "nbconvert_exporter": "python",
   "pygments_lexer": "ipython3",
   "version": "3.8.3"
  }
 },
 "nbformat": 4,
 "nbformat_minor": 4
}
